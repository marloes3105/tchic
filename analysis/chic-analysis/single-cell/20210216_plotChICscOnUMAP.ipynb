{
 "cells": [
  {
   "cell_type": "markdown",
   "metadata": {},
   "source": [
    "# import packages"
   ]
  },
  {
   "cell_type": "code",
   "execution_count": null,
   "metadata": {},
   "outputs": [],
   "source": [
    "from pandas.io.parsers import read_csv\n",
    "import matplotlib.pyplot as plt\n",
    "import seaborn as sns\n",
    "import pandas as pd\n",
    "import matplotlib as mpl\n",
    "import sys, os\n",
    "mpl.rcParams.update({'figure.max_open_warning': 0})"
   ]
  },
  {
   "cell_type": "markdown",
   "metadata": {},
   "source": [
    "# load datasets"
   ]
  },
  {
   "cell_type": "code",
   "execution_count": null,
   "metadata": {},
   "outputs": [],
   "source": [
    "pathToData = '/Users/m.blotenburg/Documents/Projects/TCHIC/data/20210215_OUD5651_K27me3K4me3_day5_20201023fixed/'"
   ]
  },
  {
   "cell_type": "markdown",
   "metadata": {},
   "source": [
    "This is the information from the transcriptome analysis, with V1 and V2 as x- and y- coordinates for the umap."
   ]
  },
  {
   "cell_type": "code",
   "execution_count": null,
   "metadata": {},
   "outputs": [],
   "source": [
    "cells_clusters = read_csv(pathToData + 'OUD5651_cells_clusters_celltypes_umap.csv', sep = '\\t')"
   ]
  },
  {
   "cell_type": "code",
   "execution_count": null,
   "metadata": {},
   "outputs": [],
   "source": [
    "cells_clusters.index = cells_clusters['names']\n",
    "cells_clusters"
   ]
  },
  {
   "cell_type": "code",
   "execution_count": null,
   "metadata": {},
   "outputs": [],
   "source": [
    "plt.figure(figsize=(8,8))\n",
    "fig = sns.scatterplot(x=cells_clusters['V1'], y=cells_clusters['V2'], hue = cells_clusters['celltype'], \n",
    "                      palette=sns.color_palette(\"tab20\", 13))"
   ]
  },
  {
   "cell_type": "markdown",
   "metadata": {},
   "source": [
    "Load the chic data too."
   ]
  },
  {
   "cell_type": "code",
   "execution_count": null,
   "metadata": {},
   "outputs": [],
   "source": [
    "TSS_table_k4 = pd.read_csv(pathToData + 'k4me3/chic/K4me3_TSS_count_table.csv', index_col=(0,1,2,3), \n",
    "                        header= 0, low_memory=False)\n",
    "TSS_table_k4 = TSS_table_k4.iloc[1:]\n",
    "TSS_table_k4.index.names = ['reference_name','start','end', 'bname']\n",
    "TSS_table_k4.head()"
   ]
  },
  {
   "cell_type": "code",
   "execution_count": null,
   "metadata": {},
   "outputs": [],
   "source": [
    "TSS_k4 = TSS_table_k4.droplevel(['start', 'end', 'reference_name'], axis=0)"
   ]
  },
  {
   "cell_type": "code",
   "execution_count": null,
   "metadata": {},
   "outputs": [],
   "source": [
    "TSS_k4.T.head()"
   ]
  },
  {
   "cell_type": "markdown",
   "metadata": {},
   "source": [
    "Merge transcriptome and chic data."
   ]
  },
  {
   "cell_type": "code",
   "execution_count": null,
   "metadata": {},
   "outputs": [],
   "source": [
    "lower_TSS_K4 = cells_clusters.join(TSS_k4.T,how='inner')"
   ]
  },
  {
   "cell_type": "code",
   "execution_count": null,
   "metadata": {},
   "outputs": [],
   "source": [
    "merged_TSS_K4 = cells_clusters.join(TSS_k4.T,how='outer')\n",
    "merged_TSS_K4.head()"
   ]
  },
  {
   "cell_type": "markdown",
   "metadata": {},
   "source": [
    "Do the same for k27 TSS"
   ]
  },
  {
   "cell_type": "code",
   "execution_count": null,
   "metadata": {},
   "outputs": [],
   "source": [
    "TSS_table_k27 = pd.read_csv(pathToData + 'k27me3/chic/K27me3_TSS_count_table.csv', index_col=(0,1,2,3), \n",
    "                        header= 0, low_memory=False)\n",
    "TSS_table_k27 = TSS_table_k27.iloc[1:]\n",
    "TSS_table_k27.index.names = ['reference_name','start','end', 'bname']\n",
    "TSS_table_k27.head()"
   ]
  },
  {
   "cell_type": "code",
   "execution_count": null,
   "metadata": {},
   "outputs": [],
   "source": [
    "TSS_k27 = TSS_table_k27.droplevel(['start', 'end', 'reference_name'], axis=0)\n",
    "lower_TSS_K27 = cells_clusters.join(TSS_k27.T,how='inner')\n",
    "\n",
    "merged_TSS_K27 = cells_clusters.join(TSS_k27.T,how='outer')\n",
    "merged_TSS_K27.head()"
   ]
  },
  {
   "cell_type": "markdown",
   "metadata": {},
   "source": [
    "And k27 gene body"
   ]
  },
  {
   "cell_type": "code",
   "execution_count": null,
   "metadata": {},
   "outputs": [],
   "source": [
    "gb_table_k27 = pd.read_csv(pathToData + 'k27me3/chic/K27me3_genebody_count_table.csv', index_col=(0,1,2,3), \n",
    "                        header= 0, low_memory=False)\n",
    "gb_table_k27 = gb_table_k27.iloc[1:]\n",
    "gb_table_k27.index.names = ['reference_name','start','end', 'bname']\n",
    "gb_table_k27.head()"
   ]
  },
  {
   "cell_type": "code",
   "execution_count": null,
   "metadata": {},
   "outputs": [],
   "source": [
    "gb_k27 = gb_table_k27.droplevel(['start', 'end', 'reference_name'], axis=0)\n",
    "lower_gb_K27 = cells_clusters.join(gb_k27.T,how='inner')\n",
    "\n",
    "merged_gb_K27 = cells_clusters.join(gb_k27.T,how='outer')\n",
    "merged_gb_K27.head()"
   ]
  },
  {
   "cell_type": "code",
   "execution_count": null,
   "metadata": {},
   "outputs": [],
   "source": [
    "merged_TSS_K27.columns[4:70]"
   ]
  },
  {
   "cell_type": "markdown",
   "metadata": {},
   "source": [
    "# plot all the things"
   ]
  },
  {
   "cell_type": "markdown",
   "metadata": {},
   "source": [
    "To look for genes, use this:"
   ]
  },
  {
   "cell_type": "code",
   "execution_count": null,
   "metadata": {},
   "outputs": [],
   "source": [
    "merged_TSS_K4.filter(regex=r'Hox').columns"
   ]
  },
  {
   "cell_type": "markdown",
   "metadata": {},
   "source": [
    "This is our color palette"
   ]
  },
  {
   "cell_type": "code",
   "execution_count": null,
   "metadata": {},
   "outputs": [],
   "source": [
    "cols = sns.color_palette('inferno', 9)\n",
    "cols"
   ]
  },
  {
   "cell_type": "markdown",
   "metadata": {},
   "source": [
    "Define lists of genes you want to visualize"
   ]
  },
  {
   "cell_type": "code",
   "execution_count": null,
   "metadata": {},
   "outputs": [],
   "source": [
    "markergenes = ['Esrrb', 'Dppa2', 'Dppa4', 'Nanog', 'Dppa5a','Gsc', 'Klf9', 'Klf2', 'Utf1', 'Pim2', \n",
    "               'Dppa3', 'Dnmt3b', 'Dazl', #PGC\n",
    "               'Cdh1', 'Trh', 'Sox17', 'Nodal', 'Epcam', 'Foxa2', 'Lefty1', #endoderm/PGC/node\n",
    "               'Sox7','Kdr','Car2', #haemogenic\n",
    "               'Bmp4', 'Gata4', 'Gata6', 'Hand1', 'Hand2', #heart\n",
    "               'Dll1', 'Hes7', 'Uncx', 'Snai1', 'Hes5', 'Dkk1', #presomitic\n",
    "               'Eya1', 'Pax3', 'Six1', 'Cer1', #early somite\n",
    "               'Aldh1a2', 'Notch1', 'Lfng', #wavefront\n",
    "               'Onecut2', 'Elavl3', 'Crabp1', #neural tube/branchial arches\n",
    "               'Wnt3a', 'Fgf8', 'T', 'Cdx2', #posterior\n",
    "               'Sox21', 'Nkx1-2', #neural SOX2 SOX1\n",
    "               'Prdm1', 'Irx1', 'Eomes', 'Meox1','Tbx4', 'Sox3','H19', 'Xist','Gata2', 'Gata3','Gata4', 'Tet1' #other   \n",
    "              ]"
   ]
  },
  {
   "cell_type": "code",
   "execution_count": null,
   "metadata": {},
   "outputs": [],
   "source": [
    "hox = ['Hoxb3os', 'Hoxb5os', 'Hoxa5', 'Hoxa2', 'Hoxaas2', 'Hoxaas3', 'Hoxd9',\n",
    "       'Hoxb5', 'Hoxb4', 'Hoxb3', 'Hoxb2', 'Hoxc6', 'Hoxd3os1', 'Hoxa7',\n",
    "       'Hoxa1', 'Hoxd3', 'Hoxd4', 'Hoxb9', 'Hoxb8', 'Hoxb7', 'Hoxb6', 'Hoxc8',\n",
    "       'Hoxa3', 'Hoxa6', 'Hoxa4', 'Hoxd13', 'Hoxd12', 'Hoxd8', 'Hoxd1',\n",
    "       'Hoxb13', 'Hoxb1', 'Hoxc9', 'Hoxd10', 'Hoxc4', 'Hoxc10', 'Hoxc5',\n",
    "       'Hoxa13', 'Hoxa10', 'Hoxc13', 'Hoxa9', 'Hoxc11', 'Hoxa11', 'Hoxa11os',\n",
    "       'Hoxd11', 'Hoxc12']"
   ]
  },
  {
   "cell_type": "markdown",
   "metadata": {},
   "source": [
    "Make a definition we can use to easily plot"
   ]
  },
  {
   "cell_type": "code",
   "execution_count": null,
   "metadata": {},
   "outputs": [],
   "source": [
    "def plotfigure(merged, lower, gene, mark = ''):\n",
    "    plt.figure(figsize=(10,10))\n",
    "    fig = plt.scatter(x=merged['V1'], y=merged['V2'], color = 'grey')#cols[0]) #, alpha=0.2)\n",
    "    \n",
    "#    fig = sns.scatterplot(x=lower['V1'], y=lower['V2'], hue = merged['celltype'],\n",
    " #                         palette=sns.color_palette(\"tab20\", 13), alpha = 0.7)\n",
    "    fig = plt.scatter(x=lower['V1'], y=lower['V2'], color = cols[0], alpha = 0.7) \n",
    "    \n",
    "    fig = plt.scatter(x=merged[merged[gene] > 0]['V1'], \n",
    "                      y=merged[merged[gene] > 0]['V2'],color = cols[2])\n",
    "    \n",
    "    fig = plt.scatter(x=merged[merged[gene] > 1]['V1'], \n",
    "                      y=merged[merged[gene] > 1]['V2'], color = cols[3])\n",
    "\n",
    "    fig = plt.scatter(x=merged[merged[gene] > 2]['V1'], \n",
    "                      y=merged[merged[gene] > 2]['V2'], color = cols[4])\n",
    "\n",
    "    fig = plt.scatter(x=merged[merged[gene] > 3]['V1'], \n",
    "                      y=merged[merged[gene] > 3]['V2'], color = cols[5])\n",
    "\n",
    "    fig = plt.scatter(x=merged[merged[gene] > 4]['V1'], \n",
    "                      y=merged[merged[gene] > 4]['V2'], color = cols[6])\n",
    "\n",
    "    fig = plt.scatter(x=merged[merged[gene] > 5]['V1'], \n",
    "                      y=merged[merged[gene] > 5]['V2'], color = cols[7])\n",
    "\n",
    "    fig = plt.scatter(x=merged[merged[gene] > 6]['V1'], \n",
    "                      y=merged[merged[gene] > 6]['V2'], color = cols[8])\n",
    "    plt.title(gene)\n",
    "    #to save the figure:\n",
    "    fig.figure.savefig(pathToData + 'plots/' + mark + gene + '.png', dpi=300)\n",
    "\n",
    "    "
   ]
  },
  {
   "cell_type": "markdown",
   "metadata": {},
   "source": [
    "Loop over gene lists, plot everything and save the figures."
   ]
  },
  {
   "cell_type": "code",
   "execution_count": null,
   "metadata": {
    "scrolled": false
   },
   "outputs": [],
   "source": [
    "for gene in markergenes: \n",
    "    plotfigure(merged_TSS_K4, lower_TSS_K4, gene, mark = 'k4me3_')"
   ]
  },
  {
   "cell_type": "code",
   "execution_count": null,
   "metadata": {},
   "outputs": [],
   "source": [
    "for gene in hox: \n",
    "    plotfigure(merged_TSS_K4, lower_TSS_K4, gene, mark = 'k4me3_')"
   ]
  },
  {
   "cell_type": "markdown",
   "metadata": {},
   "source": [
    "K27 TSS plots:"
   ]
  },
  {
   "cell_type": "code",
   "execution_count": null,
   "metadata": {
    "scrolled": true
   },
   "outputs": [],
   "source": [
    "for gene in markergenes: \n",
    "    plotfigure(merged_TSS_K27, lower_TSS_K27, gene, mark = 'k27me3_TSS_')"
   ]
  },
  {
   "cell_type": "code",
   "execution_count": null,
   "metadata": {
    "scrolled": true
   },
   "outputs": [],
   "source": [
    "for gene in hox: \n",
    "    plotfigure(merged_TSS_K27, lower_TSS_K27, gene, mark = 'k27me3_TSS_')"
   ]
  },
  {
   "cell_type": "code",
   "execution_count": null,
   "metadata": {},
   "outputs": [],
   "source": []
  },
  {
   "cell_type": "code",
   "execution_count": null,
   "metadata": {},
   "outputs": [],
   "source": []
  },
  {
   "cell_type": "code",
   "execution_count": null,
   "metadata": {},
   "outputs": [],
   "source": []
  },
  {
   "cell_type": "code",
   "execution_count": null,
   "metadata": {},
   "outputs": [],
   "source": []
  }
 ],
 "metadata": {
  "kernelspec": {
   "display_name": "Python 3",
   "language": "python",
   "name": "python3"
  },
  "language_info": {
   "codemirror_mode": {
    "name": "ipython",
    "version": 3
   },
   "file_extension": ".py",
   "mimetype": "text/x-python",
   "name": "python",
   "nbconvert_exporter": "python",
   "pygments_lexer": "ipython3",
   "version": "3.7.1"
  }
 },
 "nbformat": 4,
 "nbformat_minor": 2
}
