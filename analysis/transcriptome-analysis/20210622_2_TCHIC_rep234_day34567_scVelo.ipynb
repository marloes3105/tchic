{
 "cells": [
  {
   "cell_type": "markdown",
   "metadata": {},
   "source": [
    "# Load packages"
   ]
  },
  {
   "cell_type": "markdown",
   "metadata": {},
   "source": [
    "Read in all necessary packages:"
   ]
  },
  {
   "cell_type": "code",
   "execution_count": null,
   "metadata": {},
   "outputs": [],
   "source": [
    "from IPython.core.display import display, HTML\n",
    "display(HTML(\"<style>.container { width:90% !important; }</style>\"))\n",
    "%matplotlib inline\n",
    "\n",
    "import pandas as pd\n",
    "import matplotlib.pyplot as plt\n",
    "import seaborn as sns\n",
    "import pandas as pd\n",
    "from pandas.io.parsers import read_csv\n",
    "import scvelo as scv\n",
    "import scanpy as sc\n",
    "import numpy as np\n",
    "from functools import reduce\n",
    "from anndata import AnnData, read_h5ad\n",
    "import singlecellmultiomics.bamProcessing.bamToRNACounts\n",
    "import loompy"
   ]
  },
  {
   "cell_type": "code",
   "execution_count": null,
   "metadata": {},
   "outputs": [],
   "source": [
    "scv.settings.verbosity = 3 # show errors(0), warnings(1), info(2), hints(3)\n",
    "sc.settings.verbosity = 3  # verbosity: errors (0), warnings (1), info (2), hints (3)\n",
    "sc.logging.print_header()\n",
    "\n",
    "scv.settings.presenter_view = True  # set max width size for presenter view\n",
    "#scv.set_figure_params('scvelo')  # for beautified visualization\n",
    "sc.set_figure_params(dpi=100, color_map = 'viridis')"
   ]
  },
  {
   "cell_type": "markdown",
   "metadata": {},
   "source": [
    "# Load the dataset"
   ]
  },
  {
   "cell_type": "code",
   "execution_count": null,
   "metadata": {},
   "outputs": [],
   "source": [
    "pathToData = '/Users/m.blotenburg/Documents/Projects/TCHIC/data/rep3_rep4/'"
   ]
  },
  {
   "cell_type": "code",
   "execution_count": null,
   "metadata": {},
   "outputs": [],
   "source": [
    "adata = sc.read(pathToData + 'dataframes/20210615_all_OUD5651_OUD5771_OUD5772_OUD6104_OUD5886_rep234_day34567_Scanpy.h5ad')"
   ]
  },
  {
   "cell_type": "code",
   "execution_count": null,
   "metadata": {},
   "outputs": [],
   "source": [
    "barcodes = pd.read_csv(\"/Users/m.blotenburg/Documents/Projects/Helena/data/VASAbarcodes.csv\", sep = '\\t', header = None, index_col=0, squeeze=True).to_dict()\n",
    "barcodes = {y:x for x,y in barcodes.items()}\n",
    "adata.obs['cellnames'] = ['-'.join(x) for x in [ob.split('-')[0:7] for ob in adata.obs.index]]\n",
    "adata.obs['bc'] = [ob.split(':')[1] for ob in adata.obs['cellnames']]\n",
    "adata.obs['bc'] = adata.obs['bc'].map(lambda x: barcodes[x])\n",
    "adata.obs['cellname'] = adata.obs['batch'].astype(str) + '_' + adata.obs['bc'].astype(str)\n",
    "adata.obs.index = adata.obs['cellname']\n",
    "adata.obs.index.rename('index')\n",
    "\n",
    "adata.obs.head(2)"
   ]
  },
  {
   "cell_type": "code",
   "execution_count": null,
   "metadata": {},
   "outputs": [],
   "source": [
    "adata.obs.index = adata.obs.index.rename('index')\n",
    "adata.obs.head(2)"
   ]
  },
  {
   "cell_type": "code",
   "execution_count": null,
   "metadata": {},
   "outputs": [],
   "source": [
    "cells_clusters = pd.DataFrame(adata.obs['leiden'])\n",
    "cells_clusters.head(2)\n",
    "#cells_clusters.to_csv(pathToData + 'clusters.csv')"
   ]
  },
  {
   "cell_type": "code",
   "execution_count": null,
   "metadata": {},
   "outputs": [],
   "source": [
    "pathToData"
   ]
  },
  {
   "cell_type": "code",
   "execution_count": null,
   "metadata": {},
   "outputs": [],
   "source": [
    "cells_clusters.to_csv(pathToData + 'dataframes/20210623_rep234_day34567_cells_clusters_leiden.csv', sep = '\\t')"
   ]
  },
  {
   "cell_type": "code",
   "execution_count": null,
   "metadata": {},
   "outputs": [],
   "source": [
    "sc.get.obs_df(\n",
    "        adata,\n",
    "        obsm_keys=[(\"X_umap\", 0), (\"X_umap\", 1)]).to_csv(pathToData + 'dataframes/20210623_rep234_day34567_cells_umapCoordinates.csv', sep = '\\t')"
   ]
  },
  {
   "cell_type": "markdown",
   "metadata": {},
   "source": [
    "# RNA velocity"
   ]
  },
  {
   "cell_type": "code",
   "execution_count": null,
   "metadata": {},
   "outputs": [],
   "source": [
    "scv.tl.velocity(adata)"
   ]
  },
  {
   "cell_type": "code",
   "execution_count": null,
   "metadata": {},
   "outputs": [],
   "source": [
    "scv.tl.velocity_graph(adata)"
   ]
  },
  {
   "cell_type": "code",
   "execution_count": null,
   "metadata": {},
   "outputs": [],
   "source": [
    "scv.pl.proportions(adata, groupby='leiden_general')"
   ]
  },
  {
   "cell_type": "markdown",
   "metadata": {},
   "source": [
    "## Project velocities"
   ]
  },
  {
   "cell_type": "markdown",
   "metadata": {},
   "source": [
    "We can choose different ways of visualising the velocity onto the umap"
   ]
  },
  {
   "cell_type": "code",
   "execution_count": null,
   "metadata": {},
   "outputs": [],
   "source": [
    "fig, ax = plt.subplots(figsize=(10,8))\n",
    "scv.pl.velocity_embedding_stream(adata, ax=ax, basis='umap', color = 'day', alpha=0.8)#, palette=sns.color_palette(\"hls\", 17))"
   ]
  },
  {
   "cell_type": "code",
   "execution_count": null,
   "metadata": {},
   "outputs": [],
   "source": [
    "fig, ax = plt.subplots(figsize=(10,8))\n",
    "scv.pl.velocity_embedding(adata, ax=ax, arrow_length=3, arrow_size=2, dpi=120, color = 'day', alpha=0.8)#, palette=sns.color_palette(\"hls\", 17))"
   ]
  },
  {
   "cell_type": "code",
   "execution_count": null,
   "metadata": {},
   "outputs": [],
   "source": [
    "fig, ax = plt.subplots(figsize=(10,8))\n",
    "scv.pl.velocity_embedding_grid(adata, ax=ax, basis='umap', color = 'day', alpha=0.8)#, palette=sns.color_palette(\"hls\", 17))"
   ]
  },
  {
   "cell_type": "code",
   "execution_count": null,
   "metadata": {
    "scrolled": false
   },
   "outputs": [],
   "source": [
    "fig, ax = plt.subplots(figsize=(10,8))\n",
    "scv.pl.velocity_graph(adata, ax=ax, color = 'day',alpha=0.8)#, palette=sns.color_palette(\"hls\", 17))"
   ]
  },
  {
   "cell_type": "markdown",
   "metadata": {},
   "source": [
    "The cell cycle detected by RNA velocity, is biologically affirmed by cell cycle scores (standardized scores of mean expression levels of phase marker genes)."
   ]
  },
  {
   "cell_type": "code",
   "execution_count": null,
   "metadata": {},
   "outputs": [],
   "source": [
    "scv.tl.score_genes_cell_cycle(adata)\n",
    "fig, ax = plt.subplots(figsize=(6,5))\n",
    "scv.pl.scatter(adata, ax=ax,color_gradients=['S_score', 'G2M_score'], smooth=True, perc=[5, 95])"
   ]
  },
  {
   "cell_type": "markdown",
   "metadata": {},
   "source": [
    "Two more useful stats: - The speed or rate of differentiation is given by the length of the velocity vector. - The coherence of the vector field (i.e., how a velocity vector correlates with its neighboring velocities) provides a measure of confidence."
   ]
  },
  {
   "cell_type": "code",
   "execution_count": null,
   "metadata": {},
   "outputs": [],
   "source": [
    "scv.tl.velocity_confidence(adata)\n",
    "keys = 'velocity_length', 'velocity_confidence'\n",
    "scv.pl.scatter(adata, c=keys, cmap='coolwarm', perc=[5, 95])"
   ]
  },
  {
   "cell_type": "code",
   "execution_count": null,
   "metadata": {},
   "outputs": [],
   "source": [
    "df = adata.obs.groupby('celltype')[keys].mean().T\n",
    "df.style.background_gradient(cmap='coolwarm', axis=1)"
   ]
  },
  {
   "cell_type": "markdown",
   "metadata": {},
   "source": [
    "We can also calculate and plot the velocity pseudotime"
   ]
  },
  {
   "cell_type": "code",
   "execution_count": null,
   "metadata": {},
   "outputs": [],
   "source": [
    "scv.tl.velocity_pseudotime(adata, n_dcs=50)\n",
    "fig, ax = plt.subplots(figsize=(6,5))\n",
    "scv.pl.scatter(adata, ax=ax, color='velocity_pseudotime', cmap='gnuplot')"
   ]
  },
  {
   "cell_type": "code",
   "execution_count": null,
   "metadata": {},
   "outputs": [],
   "source": [
    "scv.tl.velocity_pseudotime(adata, groupby='day',groups='Gastd7')\n",
    "fig, ax = plt.subplots(figsize=(6,5))\n",
    "scv.pl.scatter(adata, ax=ax, color='velocity_pseudotime', cmap='gnuplot')"
   ]
  },
  {
   "cell_type": "code",
   "execution_count": null,
   "metadata": {},
   "outputs": [],
   "source": [
    "scv.tl.velocity_pseudotime(adata, groupby='leiden_general')\n",
    "fig, ax = plt.subplots(figsize=(6,5))\n",
    "scv.pl.scatter(adata, ax=ax, color='velocity_pseudotime', cmap='gnuplot')"
   ]
  },
  {
   "cell_type": "markdown",
   "metadata": {},
   "source": [
    "Trace individual cells"
   ]
  },
  {
   "cell_type": "code",
   "execution_count": null,
   "metadata": {},
   "outputs": [],
   "source": [
    "x = adata.obs[adata.obs['day'] == 'Gastd5']\n",
    "x[x['leiden_general'] == 'Neural'].tail(5)"
   ]
  },
  {
   "cell_type": "code",
   "execution_count": null,
   "metadata": {},
   "outputs": [],
   "source": [
    "adata.obs.index.get_indexer_for((adata.obs[adata.obs.index == 'PZ-MB-TChIC-Gastd5-rep4-H3K27me3-6:TGAAAGGC'].index))"
   ]
  },
  {
   "cell_type": "code",
   "execution_count": null,
   "metadata": {},
   "outputs": [],
   "source": [
    "x, y = scv.utils.get_cell_transitions(adata, basis='umap', starting_cell=21478)\n",
    "ax = scv.pl.velocity_graph(adata, c='lightgrey', edge_width=.05, show=False)\n",
    "ax = scv.pl.scatter(adata, x=x, y=y, s=120, c='ascending', cmap='gnuplot', ax=ax)\n"
   ]
  },
  {
   "cell_type": "markdown",
   "metadata": {},
   "source": [
    "To see the different batches on top of the 'velocity' umap, just change the 'color'."
   ]
  },
  {
   "cell_type": "code",
   "execution_count": null,
   "metadata": {},
   "outputs": [],
   "source": [
    "#scv.settings.set_figure_params('scvelo')\n",
    "fig, ax = plt.subplots(figsize=(6,5))\n",
    "scv.pl.velocity_embedding_stream(adata, ax=ax,\n",
    "                                 basis='umap', \n",
    "                                 color=['day'])#,palette=sns.color_palette(\"hls\", 13))"
   ]
  },
  {
   "cell_type": "code",
   "execution_count": null,
   "metadata": {},
   "outputs": [],
   "source": [
    "#scv.settings.set_figure_params('scvelo')\n",
    "fig, ax = plt.subplots(figsize=(6,5))\n",
    "scv.pl.velocity_embedding_stream(adata, ax=ax,\n",
    "                                 basis='umap', \n",
    "                                 color='batch')#,palette=sc.pl.palettes.default_20, size = 60)"
   ]
  },
  {
   "cell_type": "code",
   "execution_count": null,
   "metadata": {},
   "outputs": [],
   "source": [
    "#scv.settings.set_figure_params('scvelo')\n",
    "fig, ax = plt.subplots(figsize=(6,5))\n",
    "scv.pl.velocity_embedding_stream(adata, \n",
    "                                 basis='umap', ax=ax,\n",
    "                                 color='mark')"
   ]
  },
  {
   "cell_type": "markdown",
   "metadata": {},
   "source": [
    "Plotting our favourite genes in terms of velocity:"
   ]
  },
  {
   "cell_type": "code",
   "execution_count": null,
   "metadata": {},
   "outputs": [],
   "source": [
    "sc.pl.umap(adata, color = \"T\", color_map = \"viridis\", use_raw=True, frameon=False, size = 80)"
   ]
  },
  {
   "cell_type": "code",
   "execution_count": null,
   "metadata": {},
   "outputs": [],
   "source": [
    "sc.pl.umap(adata, color = \"T\", color_map = \"viridis\", layer = 'spliced', frameon=False, size = 80)"
   ]
  },
  {
   "cell_type": "code",
   "execution_count": null,
   "metadata": {},
   "outputs": [],
   "source": [
    "sc.pl.umap(adata, color = \"T\", color_map = \"viridis\", layer = 'unspliced', frameon=False, size = 80)"
   ]
  },
  {
   "cell_type": "code",
   "execution_count": null,
   "metadata": {},
   "outputs": [],
   "source": [
    "scv.pl.scatter(adata, ['Pou5f1', 'Onecut2', 'T','Sox17'], color=['day'], size = 50, figsize = (20,20))\n",
    "\n"
   ]
  },
  {
   "cell_type": "code",
   "execution_count": null,
   "metadata": {},
   "outputs": [],
   "source": [
    "scv.pl.velocity(adata, var_names='T', color = \"day\", \n",
    "               # palette=sns.color_palette('tab20',13), \n",
    "                ncols=1) + sc.pl.umap(adata, color='day', #palette=sns.color_palette('tab20',13), \n",
    "                                                                             legend_loc = \"on data\", title='Cell types', legend_fontsize=10, frameon=False, size = 40)"
   ]
  },
  {
   "cell_type": "code",
   "execution_count": null,
   "metadata": {},
   "outputs": [],
   "source": [
    "polycomb = ['Jarid2', \"Eed\",\"Ezh2\", \"Prc1\", \"Ring1\", \"Suz12\", \"Phc1\",\"Phc2\", \"Suv39h2\"] #Prc2\n",
    "k4 = ['Setd5', 'Setd1a', 'Setd3', 'Setdb2', 'Setd7', 'Setd1b','Jarid2']\n",
    "\n",
    "markergenes = ['Esrrb', 'Dppa2', 'Dppa4', 'Nanog', 'Dppa5a','Gsc', 'Klf9', 'Klf2', 'Utf1', 'Pim2', \n",
    "               'Dppa3', 'Dnmt3b', 'Dazl', #PGC\n",
    "               'Cdh1', 'Trh', 'Sox17', 'Nodal', 'Epcam', 'Foxa2', 'Lefty1', #endoderm/PGC/node\n",
    "               'Sox7','Kdr','Car2', #haemogenic\n",
    "               'Bmp4', 'Gata4', 'Gata6', 'Hand1', 'Hand2', #heart\n",
    "               'Dll1', 'Hes7', 'Uncx', 'Snai1', 'Hes5', 'Dkk1', #presomitic\n",
    "               'Eya1', 'Pax3', 'Six1', 'Cer1', #early somite\n",
    "               'Aldh1a2', 'Notch1', 'Lfng', #wavefront\n",
    "               'Onecut2', 'Elavl3', 'Crabp1', #neural tube/branchial arches\n",
    "               'Wnt3a', 'Fgf8', 'T', 'Cdx2', #posterior\n",
    "               'Sox21', 'Nkx1-2', #neural SOX2 SOX1\n",
    "               'Prdm1', 'Irx1', 'Eomes', 'Meox1','Tbx4', 'Sox3','H19', 'Xist','Gata2', 'Gata3','Gata4' #other   \n",
    "              ]\n",
    "\n",
    "hox = adata.var.filter(regex=r'Hox', axis=0).index"
   ]
  },
  {
   "cell_type": "code",
   "execution_count": null,
   "metadata": {
    "scrolled": true
   },
   "outputs": [],
   "source": [
    "for gene in polycomb:\n",
    "    scv.pl.scatter(adata, gene, color=['day'], size = 50, figsize = (4,4), alpha=0.7)\n"
   ]
  },
  {
   "cell_type": "code",
   "execution_count": null,
   "metadata": {
    "scrolled": true
   },
   "outputs": [],
   "source": [
    "for gene in hox:\n",
    "    scv.pl.scatter(adata, gene, color=['day'], size = 50, figsize = (4,4), alpha=0.7)\n",
    "\n",
    "\n"
   ]
  },
  {
   "cell_type": "code",
   "execution_count": null,
   "metadata": {
    "scrolled": true
   },
   "outputs": [],
   "source": [
    "for gene in k4:\n",
    "       scv.pl.scatter(adata, gene, color=['day'], size = 50, figsize = (4,4), alpha=0.7)\n",
    "\n",
    "\n"
   ]
  },
  {
   "cell_type": "code",
   "execution_count": null,
   "metadata": {
    "scrolled": true
   },
   "outputs": [],
   "source": [
    "for gene in markergenes:\n",
    "       scv.pl.scatter(adata, gene, color=['day'], size = 50, figsize = (4,4), alpha=0.7)\n",
    "\n",
    "\n",
    "\n"
   ]
  },
  {
   "cell_type": "code",
   "execution_count": null,
   "metadata": {},
   "outputs": [],
   "source": []
  },
  {
   "cell_type": "code",
   "execution_count": null,
   "metadata": {
    "scrolled": true
   },
   "outputs": [],
   "source": [
    "scv.pl.velocity(adata, var_names=markergenes, color = \"leiden_general\", ncols=1, size = 30, alpha=0.5)"
   ]
  },
  {
   "cell_type": "code",
   "execution_count": null,
   "metadata": {
    "scrolled": true
   },
   "outputs": [],
   "source": [
    "scv.pl.velocity(adata, var_names=markergenes, color = \"day\", ncols=1)"
   ]
  },
  {
   "cell_type": "markdown",
   "metadata": {},
   "source": [
    "To define the top velocity genes, we need to rank them per cluster."
   ]
  },
  {
   "cell_type": "code",
   "execution_count": null,
   "metadata": {},
   "outputs": [],
   "source": [
    "pd.set_option('display.max_columns', None)"
   ]
  },
  {
   "cell_type": "code",
   "execution_count": null,
   "metadata": {},
   "outputs": [],
   "source": [
    "scv.tl.rank_velocity_genes(adata, groupby = 'leiden', min_counts = 1, resolution=0.4,min_corr=.3)\n",
    "\n",
    "df_velo = pd.DataFrame(adata.uns['rank_velocity_genes']['names'])\n",
    "df_velo"
   ]
  },
  {
   "cell_type": "code",
   "execution_count": null,
   "metadata": {},
   "outputs": [],
   "source": [
    "scv.tl.rank_velocity_genes(adata, groupby = 'day', min_counts = 1, resolution=0.4,min_corr=.3)\n",
    "\n",
    "df_day_velo = pd.DataFrame(adata.uns['rank_velocity_genes']['names'])\n",
    "df_day_velo"
   ]
  },
  {
   "cell_type": "markdown",
   "metadata": {},
   "source": [
    "We can then visualise these too."
   ]
  },
  {
   "cell_type": "code",
   "execution_count": null,
   "metadata": {},
   "outputs": [],
   "source": [
    "scv.pl.scatter(adata, df_day_velo['Gastd4'][:5], ylabel='Gastd4')\n"
   ]
  },
  {
   "cell_type": "code",
   "execution_count": null,
   "metadata": {
    "scrolled": true
   },
   "outputs": [],
   "source": [
    "scv.pl.velocity(adata, var_names=pd.DataFrame(adata.uns['rank_velocity_genes']['names']).head(2).values.flatten(), ncols=1, colorbar=True)"
   ]
  },
  {
   "cell_type": "markdown",
   "metadata": {},
   "source": [
    "# PAGA graph building"
   ]
  },
  {
   "cell_type": "code",
   "execution_count": null,
   "metadata": {},
   "outputs": [],
   "source": [
    "# this is needed due to a current bug - bugfix is coming soon.\n",
    "adata.uns['neighbors']['distances'] = adata.obsp['distances']\n",
    "adata.uns['neighbors']['connectivities'] = adata.obsp['connectivities']\n",
    "\n",
    "scv.tl.paga(adata, groups='leiden')\n",
    "df = scv.get_df(adata, 'paga/transitions_confidence', precision=2).T\n",
    "df.style.background_gradient(cmap='Blues').format('{:.2g}')\n"
   ]
  },
  {
   "cell_type": "code",
   "execution_count": null,
   "metadata": {},
   "outputs": [],
   "source": [
    "fig, ax = plt.subplots(figsize=(10,10))\n",
    "scv.pl.paga(adata, basis='umap', size=50, alpha=.1,ax=ax,color = 'leiden',\n",
    "            min_edge_width=2, node_size_scale=1.5)"
   ]
  },
  {
   "cell_type": "code",
   "execution_count": null,
   "metadata": {},
   "outputs": [],
   "source": [
    "pd.DataFrame(adata.obs['leiden_general']).to_csv(pathToData + '20210622_rep234_day34567_cellsLeidenClusters_general.csv')"
   ]
  },
  {
   "cell_type": "markdown",
   "metadata": {},
   "source": [
    "# Save"
   ]
  },
  {
   "cell_type": "markdown",
   "metadata": {},
   "source": [
    "During the course of this analysis, the AnnData accumlated the following annotations."
   ]
  },
  {
   "cell_type": "code",
   "execution_count": null,
   "metadata": {},
   "outputs": [],
   "source": [
    "adata"
   ]
  },
  {
   "cell_type": "code",
   "execution_count": null,
   "metadata": {},
   "outputs": [],
   "source": [
    "adata.write(results_file, compression='gzip')  # `compression='gzip'` saves disk space, but slows down writing and subsequent reading"
   ]
  },
  {
   "cell_type": "markdown",
   "metadata": {},
   "source": [
    "Get a rough overview of the file using `h5ls`, which has many options - for more details see [here](https://github.com/theislab/scanpy_usage/blob/master/170505_seurat/info_h5ad.md). The file format might still be subject to further optimization in the future. All reading functions will remain backwards-compatible, though."
   ]
  },
  {
   "cell_type": "markdown",
   "metadata": {},
   "source": [
    "If you want to share this file with people who merely want to use it for visualization, a simple way to reduce the file size is by removing the dense scaled and corrected data matrix. The file still contains the raw data used in the visualizations."
   ]
  },
  {
   "cell_type": "code",
   "execution_count": null,
   "metadata": {},
   "outputs": [],
   "source": [
    "adata.X = None\n",
    "adata.write('./write/Scanpy120hAA.h5ad', compression='gzip')"
   ]
  },
  {
   "cell_type": "markdown",
   "metadata": {},
   "source": [
    "If you want to export to \"csv\", you have the following options:"
   ]
  },
  {
   "cell_type": "code",
   "execution_count": null,
   "metadata": {},
   "outputs": [],
   "source": [
    "# Export single fields of the annotation of observations\n",
    "# adata.obs[['n_counts', 'louvain_groups']].to_csv(\n",
    "#     './write/pbmc3k_corrected_louvain_groups.csv')\n",
    "\n",
    "# Export single columns of the multidimensional annotation\n",
    "# adata.obsm.to_df()[['X_pca1', 'X_pca2']].to_csv(\n",
    "#     './write/pbmc3k_corrected_X_pca.csv')\n",
    "\n",
    "# Or export everything except the data using `.write_csvs`.\n",
    "# Set `skip_data=False` if you also want to export the data.\n",
    "# adata.write_csvs(results_file[:-5], )"
   ]
  }
 ],
 "metadata": {
  "anaconda-cloud": {},
  "kernelspec": {
   "display_name": "Python 3",
   "language": "python",
   "name": "python3"
  },
  "language_info": {
   "codemirror_mode": {
    "name": "ipython",
    "version": 3
   },
   "file_extension": ".py",
   "mimetype": "text/x-python",
   "name": "python",
   "nbconvert_exporter": "python",
   "pygments_lexer": "ipython3",
   "version": "3.7.1"
  }
 },
 "nbformat": 4,
 "nbformat_minor": 2
}
