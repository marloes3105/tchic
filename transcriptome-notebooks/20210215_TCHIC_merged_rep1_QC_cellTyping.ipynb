{
 "cells": [
  {
   "cell_type": "markdown",
   "metadata": {},
   "source": [
    "# Clustering of all data"
   ]
  },
  {
   "cell_type": "markdown",
   "metadata": {},
   "source": [
    "Read in all necessary packages:"
   ]
  },
  {
   "cell_type": "code",
   "execution_count": null,
   "metadata": {},
   "outputs": [],
   "source": [
    "from IPython.core.display import display, HTML\n",
    "display(HTML(\"<style>.container { width:90% !important; }</style>\"))\n",
    "%matplotlib inline\n",
    "\n",
    "import matplotlib.pyplot as plt\n",
    "import seaborn as sns\n",
    "import pandas as pd\n",
    "from pandas.io.parsers import read_csv\n",
    "import scvelo as scv\n",
    "import scanpy as sc\n",
    "import numpy as np\n",
    "from functools import reduce\n",
    "from anndata import AnnData, read_h5ad\n",
    "import singlecellmultiomics.bamProcessing.bamToRNACounts\n",
    "import loompy"
   ]
  },
  {
   "cell_type": "code",
   "execution_count": null,
   "metadata": {},
   "outputs": [],
   "source": [
    "scv.settings.verbosity = 3 # show errors(0), warnings(1), info(2), hints(3)\n",
    "sc.settings.verbosity = 3  # verbosity: errors (0), warnings (1), info (2), hints (3)\n",
    "sc.logging.print_header()\n",
    "\n",
    "scv.settings.presenter_view = True  # set max width size for presenter view\n",
    "#scv.set_figure_params('scvelo')  # for beautified visualization\n",
    "sc.set_figure_params(dpi=100, color_map = 'viridis')"
   ]
  },
  {
   "cell_type": "markdown",
   "metadata": {},
   "source": [
    "# Load the dataset"
   ]
  },
  {
   "cell_type": "code",
   "execution_count": null,
   "metadata": {},
   "outputs": [],
   "source": [
    "pathToData = '/Users/m.blotenburg/Documents/Projects/TCHIC/data/'"
   ]
  },
  {
   "cell_type": "markdown",
   "metadata": {},
   "source": [
    "#only need to do this once\n",
    "\n",
    "#VAN5399\n",
    "p1 = (pathToData + '20201214_tchic_gastruloids_testdata_VAN5399/processed_transcriptome/PZ-TChIC-gast-d5-H3K27ac-1/velocyto/counts/unique_A3N7I.loom')\n",
    "p2 = (pathToData + '20201214_tchic_gastruloids_testdata_VAN5399/processed_transcriptome/PZ-TChIC-gast-d5-H3K4me1-1/velocyto/counts/unique_H154B.loom')\n",
    "p3 = (pathToData + '20201214_tchic_gastruloids_testdata_VAN5399/processed_transcriptome/PZ-TChIC-gast-d5-H3K4me3-4/velocyto/counts/unique_5EVDR.loom')\n",
    "p4 = (pathToData + '20201214_tchic_gastruloids_testdata_VAN5399/processed_transcriptome/PZ-TChIC-gast-d5-H3K27me3-1/velocyto/counts/unique_Q03C5.loom')\n",
    "p5 = (pathToData + '20201214_tchic_gastruloids_testdata_VAN5399/processed_transcriptome/PZ-TChIC-gast-d6-H3K27me3-1/velocyto/counts/unique_HKYA8.loom')\n",
    "p6 = (pathToData + '20201214_tchic_gastruloids_testdata_VAN5399/processed_transcriptome/PZ-TChIC-gast-d7-H3K27me3-4/velocyto/counts/unique_HQM3W.loom')\n",
    "\n",
    "#OUD5650\n",
    "p7 = (pathToData + '20210217_OUD5650_K27me3K4me3_day567_20201029fresh/k27me3/processed_transcriptome/PZ-MB-gastd5-TChIC-rep1-H3K27me3-2/rna_counts/PZ-MB-gastd5-TChIC-rep1-H3K27me3-2.loom')\n",
    "p8 = (pathToData + '20210217_OUD5650_K27me3K4me3_day567_20201029fresh/k27me3/processed_transcriptome/PZ-MB-gastd5-TChIC-rep1-H3K27me3-3/rna_counts/PZ-MB-gastd5-TChIC-rep1-H3K27me3-3.loom')\n",
    "p9 = (pathToData + '20210217_OUD5650_K27me3K4me3_day567_20201029fresh/k27me3/processed_transcriptome/PZ-MB-gastd5-TChIC-rep1-H3K27me3-4/rna_counts/PZ-MB-gastd5-TChIC-rep1-H3K27me3-4.loom')\n",
    "p10 = (pathToData + '20210217_OUD5650_K27me3K4me3_day567_20201029fresh/k27me3/processed_transcriptome/PZ-MB-gastd6-TChIC-rep1-H3K27me3-2/rna_counts/PZ-MB-gastd6-TChIC-rep1-H3K27me3-2.loom')\n",
    "\n",
    "p11 = (pathToData + '20210217_OUD5650_K27me3K4me3_day567_20201029fresh/k27me3/processed_transcriptome/PZ-MB-gastd6-TChIC-rep1-H3K27me3-3/rna_counts/PZ-MB-gastd6-TChIC-rep1-H3K27me3-3.loom')\n",
    "p12 = (pathToData + '20210217_OUD5650_K27me3K4me3_day567_20201029fresh/k27me3/processed_transcriptome/PZ-MB-gastd6-TChIC-rep1-H3K27me3-4/rna_counts/PZ-MB-gastd6-TChIC-rep1-H3K27me3-4.loom')\n",
    "p13 = (pathToData + '20210217_OUD5650_K27me3K4me3_day567_20201029fresh/k27me3/processed_transcriptome/PZ-MB-gastd7-TChIC-rep1-H3K27me3-1/rna_counts/PZ-MB-gastd7-TChIC-rep1-H3K27me3-1.loom')\n",
    "p14 = (pathToData + '20210217_OUD5650_K27me3K4me3_day567_20201029fresh/k27me3/processed_transcriptome/PZ-MB-gastd7-TChIC-rep1-H3K27me3-2/rna_counts/PZ-MB-gastd7-TChIC-rep1-H3K27me3-2.loom')\n",
    "p15 = (pathToData + '20210217_OUD5650_K27me3K4me3_day567_20201029fresh/k27me3/processed_transcriptome/PZ-MB-gastd7-TChIC-rep1-H3K27me3-3/rna_counts/PZ-MB-gastd7-TChIC-rep1-H3K27me3-3.loom')\n",
    "p16 = (pathToData + '20210217_OUD5650_K27me3K4me3_day567_20201029fresh/k4me3/processed_transcriptome/PZ-MB-gastd5-TChIC-rep1-H3K4me3-2/rna_counts/PZ-MB-gastd5-TChIC-rep1-H3K4me3-2.loom')\n",
    "p17 = (pathToData + '20210217_OUD5650_K27me3K4me3_day567_20201029fresh/k4me3/processed_transcriptome/PZ-MB-gastd5-TChIC-rep1-H3K4me3-3/rna_counts/PZ-MB-gastd5-TChIC-rep1-H3K4me3-3.loom')\n",
    "p18 = (pathToData + '20210217_OUD5650_K27me3K4me3_day567_20201029fresh/k4me3/processed_transcriptome/PZ-MB-gastd6-TChIC-rep1-H3K4me3-1/rna_counts/PZ-MB-gastd6-TChIC-rep1-H3K4me3-1.loom')\n",
    "p19 = (pathToData + '20210217_OUD5650_K27me3K4me3_day567_20201029fresh/k4me3/processed_transcriptome/PZ-MB-gastd6-TChIC-rep1-H3K4me3-2/rna_counts/PZ-MB-gastd6-TChIC-rep1-H3K4me3-2.loom')\n",
    "p20 = (pathToData + '20210217_OUD5650_K27me3K4me3_day567_20201029fresh/k4me3/processed_transcriptome/PZ-MB-gastd6-TChIC-rep1-H3K4me3-3/rna_counts/PZ-MB-gastd6-TChIC-rep1-H3K4me3-3.loom')\n",
    "p21 = (pathToData + '20210217_OUD5650_K27me3K4me3_day567_20201029fresh/k4me3/processed_transcriptome/PZ-MB-gastd6-TChIC-rep1-H3K4me3-4/rna_counts/PZ-MB-gastd6-TChIC-rep1-H3K4me3-4.loom')\n",
    "p22 = (pathToData + '20210217_OUD5650_K27me3K4me3_day567_20201029fresh/k4me3/processed_transcriptome/PZ-MB-gastd7-TChIC-rep1-H3K4me3-1/rna_counts/PZ-MB-gastd7-TChIC-rep1-H3K4me3-1.loom')\n",
    "p23 = (pathToData + '20210217_OUD5650_K27me3K4me3_day567_20201029fresh/k4me3/processed_transcriptome/PZ-MB-gastd7-TChIC-rep1-H3K4me3-2/rna_counts/PZ-MB-gastd7-TChIC-rep1-H3K4me3-2.loom')\n",
    "p24 = (pathToData + '20210217_OUD5650_K27me3K4me3_day567_20201029fresh/k4me3/processed_transcriptome/PZ-MB-gastd7-TChIC-rep1-H3K4me3-3/rna_counts/PZ-MB-gastd7-TChIC-rep1-H3K4me3-3.loom')\n",
    "p25 = (pathToData + '20210217_OUD5650_K27me3K4me3_day567_20201029fresh/k4me3/processed_transcriptome/PZ-MB-gastd7-TChIC-rep1-H3K4me3-4/rna_counts/PZ-MB-gastd7-TChIC-rep1-H3K4me3-4.loom')\n",
    "\n",
    "#OUD5651\n",
    "p26 = (pathToData + '20210215_OUD5651_K27me3K4me3_day5_20201023fixed/k27me3/processed_transcriptome/PZ-MB-TChIC-Gastd5-rep2-H3K27me3-1/rna_counts/PZ-MB-TChIC-Gastd5-rep2-H3K27me3-1.loom')\n",
    "p27 = (pathToData + '20210215_OUD5651_K27me3K4me3_day5_20201023fixed/k27me3/processed_transcriptome/PZ-MB-TChIC-Gastd5-rep2-H3K27me3-2/rna_counts/PZ-MB-TChIC-Gastd5-rep2-H3K27me3-2.loom')\n",
    "p28 = (pathToData + '20210215_OUD5651_K27me3K4me3_day5_20201023fixed/k27me3/processed_transcriptome/PZ-MB-TChIC-Gastd5-rep2-H3K27me3-3/rna_counts/PZ-MB-TChIC-Gastd5-rep2-H3K27me3-3.loom')\n",
    "p29 = (pathToData + '20210215_OUD5651_K27me3K4me3_day5_20201023fixed/k27me3/processed_transcriptome/PZ-MB-TChIC-Gastd5-rep2-H3K27me3-4/rna_counts/PZ-MB-TChIC-Gastd5-rep2-H3K27me3-4.loom')\n",
    "p30 = (pathToData + '20210215_OUD5651_K27me3K4me3_day5_20201023fixed/k27me3/processed_transcriptome/PZ-MB-TChIC-Gastd5-rep2-H3K27me3-5/rna_counts/PZ-MB-TChIC-Gastd5-rep2-H3K27me3-5.loom')\n",
    "p31 = (pathToData + '20210215_OUD5651_K27me3K4me3_day5_20201023fixed/k27me3/processed_transcriptome/PZ-MB-TChIC-Gastd5-rep2-H3K27me3-6/rna_counts/PZ-MB-TChIC-Gastd5-rep2-H3K27me3-6.loom')\n",
    "p32 = (pathToData + '20210215_OUD5651_K27me3K4me3_day5_20201023fixed/k4me3/processed_transcriptome/PZ-MB-TChIC-Gastd5-rep2-H3K4me3-1/rna_counts/PZ-MB-TChIC-Gastd5-rep2-H3K4me3-1.loom')\n",
    "p33 = (pathToData + '20210215_OUD5651_K27me3K4me3_day5_20201023fixed/k4me3/processed_transcriptome/PZ-MB-TChIC-Gastd5-rep2-H3K4me3-2/rna_counts/PZ-MB-TChIC-Gastd5-rep2-H3K4me3-2.loom')\n",
    "p34 = (pathToData + '20210215_OUD5651_K27me3K4me3_day5_20201023fixed/k4me3/processed_transcriptome/PZ-MB-TChIC-Gastd5-rep2-H3K4me3-3/rna_counts/PZ-MB-TChIC-Gastd5-rep2-H3K4me3-3.loom')\n",
    "p35 = (pathToData + '20210215_OUD5651_K27me3K4me3_day5_20201023fixed/k4me3/processed_transcriptome/PZ-MB-TChIC-Gastd5-rep2-H3K4me3-4/rna_counts/PZ-MB-TChIC-Gastd5-rep2-H3K4me3-4.loom')\n",
    "p36 = (pathToData + '20210215_OUD5651_K27me3K4me3_day5_20201023fixed/k4me3/processed_transcriptome/PZ-MB-TChIC-Gastd5-rep2-H3K4me3-5/rna_counts/PZ-MB-TChIC-Gastd5-rep2-H3K4me3-5.loom')\n",
    "p37 = (pathToData + '20210215_OUD5651_K27me3K4me3_day5_20201023fixed/k4me3/processed_transcriptome/PZ-MB-TChIC-Gastd5-rep2-H3K4me3-6/rna_counts/PZ-MB-TChIC-Gastd5-rep2-H3K4me3-6.loom')\n",
    "\n",
    "paths = [p1,p2,p3,p4,p5,p6,p7,p8,p9,p10,p11,p12,p13,p14,p15,p16,p17,p18,p19,p20,p21,p22,p23,p24,p25] #,p26,p27,p28,p29,p30,p31,p32,p33,p34,p35,p36,p37]\n",
    "#p10!"
   ]
  },
  {
   "cell_type": "markdown",
   "metadata": {},
   "source": [
    "Here we combine the loom files for all separate libraries into one big loom file ready to import as adata for scanpy. We only need to do this once, afterwards we can just import the .loom directly into adata."
   ]
  },
  {
   "cell_type": "markdown",
   "metadata": {},
   "source": [
    "#only need to do this once\n",
    "loompy.combine(paths, (pathToData +'dataframes/20210217_merged_rep1_VAN5399_OUD5650_full_dataset.loom'), key=\"Accession\")"
   ]
  },
  {
   "cell_type": "code",
   "execution_count": null,
   "metadata": {},
   "outputs": [],
   "source": [
    "#import loom in adata\n",
    "adata_test = scv.read_loom(pathToData + 'dataframes/20210217_merged_rep1_VAN5399_OUD5650_full_dataset.loom',obs_names='CellID')\n",
    "adata_test"
   ]
  },
  {
   "cell_type": "code",
   "execution_count": null,
   "metadata": {},
   "outputs": [],
   "source": [
    "adata_test.obs.index = [s.replace('PZ-TChIC-gast-d5-H3K27ac-1' , 'PZ-MB-gastd5-TCHIC-rep1-H3K27ac-1') for s in adata_test.obs.index]\n",
    "adata_test.obs.index = [s.replace('unique_H154B' , 'PZ-MB-gastd5-TCHIC-rep1-H3K4me1-1') for s in adata_test.obs.index]\n",
    "adata_test.obs.index = [s.replace('unique_5EVDR' , 'PZ-MB-gastd5-TCHIC-rep1-H3K4me3-4') for s in adata_test.obs.index]\n",
    "adata_test.obs.index = [s.replace('unique_Q03C5' , 'PZ-MB-gastd5-TCHIC-rep1-H3K27me3-1') for s in adata_test.obs.index]\n",
    "adata_test.obs.index = [s.replace('unique_HKYA8' , 'PZ-MB-gastd6-TCHIC-rep1-H3K27me3-1') for s in adata_test.obs.index]\n",
    "adata_test.obs.index = [s.replace(\"unique_HQM3W\" , 'PZ-MB-gastd7-TCHIC-rep1-H3K27me3-4') for s in adata_test.obs.index]\n",
    "\n"
   ]
  },
  {
   "cell_type": "code",
   "execution_count": null,
   "metadata": {},
   "outputs": [],
   "source": [
    "#check if the library names are okay\n",
    "adata_test.obs"
   ]
  },
  {
   "cell_type": "code",
   "execution_count": null,
   "metadata": {},
   "outputs": [],
   "source": [
    "# define a file to write results to\n",
    "results_file = pathToData + '/dataframes/20210223_TCHIC_rep1_Scanpy.h5ad'  # the file that will store the analysis results"
   ]
  },
  {
   "cell_type": "markdown",
   "metadata": {},
   "source": [
    "# Scanpy"
   ]
  },
  {
   "cell_type": "markdown",
   "metadata": {},
   "source": [
    "## Preprocessing of dataset "
   ]
  },
  {
   "cell_type": "code",
   "execution_count": null,
   "metadata": {},
   "outputs": [],
   "source": [
    "adata = adata_test\n",
    "\n",
    "adata"
   ]
  },
  {
   "cell_type": "markdown",
   "metadata": {},
   "source": [
    "Check the amount of spliced/unspliced reads in the data."
   ]
  },
  {
   "cell_type": "code",
   "execution_count": null,
   "metadata": {},
   "outputs": [],
   "source": [
    "scv.pl.proportions(adata)"
   ]
  },
  {
   "cell_type": "code",
   "execution_count": null,
   "metadata": {},
   "outputs": [],
   "source": [
    "#Make names unique\n",
    "adata.var_names_make_unique()"
   ]
  },
  {
   "cell_type": "markdown",
   "metadata": {},
   "source": [
    "Show those genes that yield the highest fraction of counts in each single cells, across all cells."
   ]
  },
  {
   "cell_type": "code",
   "execution_count": null,
   "metadata": {},
   "outputs": [],
   "source": [
    "sc.pl.highest_expr_genes(adata, n_top=20)"
   ]
  },
  {
   "cell_type": "code",
   "execution_count": null,
   "metadata": {},
   "outputs": [],
   "source": [
    "adata"
   ]
  },
  {
   "cell_type": "markdown",
   "metadata": {},
   "source": [
    "Basic filtering. You can play around with these cut-offs to see what works best."
   ]
  },
  {
   "cell_type": "code",
   "execution_count": null,
   "metadata": {},
   "outputs": [],
   "source": [
    "minCount = 750\n",
    "sc.pp.filter_cells(adata, min_counts=minCount)\n",
    "sc.pp.filter_cells(adata, min_genes=100)\n",
    "sc.pp.filter_genes(adata, min_cells=2)"
   ]
  },
  {
   "cell_type": "code",
   "execution_count": null,
   "metadata": {},
   "outputs": [],
   "source": [
    "#maxCount = 40000\n",
    "#sc.pp.filter_cells(adata, max_counts=maxCount)\n",
    "#sc.pp.filter_cells(adata, max_genes=4000)"
   ]
  },
  {
   "cell_type": "code",
   "execution_count": null,
   "metadata": {},
   "outputs": [],
   "source": [
    "adata"
   ]
  },
  {
   "cell_type": "markdown",
   "metadata": {},
   "source": [
    "Let us assemple some information about mitochondrial genes, which are important for quality control.\n",
    "\n",
    "Citing from \"Simple Single Cell\" workflows [(Lun, McCarthy & Marioni, 2017)](https://master.bioconductor.org/packages/release/workflows/html/simpleSingleCell.html#examining-gene-level-metrics):\n",
    "\n",
    "> High proportions are indicative of poor-quality cells (Islam et al. 2014; Ilicic et al. 2016), possibly because of loss of cytoplasmic RNA from perforated cells. The reasoning is that mitochondria are larger than individual transcript molecules and less likely to escape through tears in the cell membrane."
   ]
  },
  {
   "cell_type": "markdown",
   "metadata": {},
   "source": [
    "Note you can also use the function `pp.calculate_qc_metrics` to compute the fraction of mitochondrial genes and additional measures."
   ]
  },
  {
   "cell_type": "code",
   "execution_count": null,
   "metadata": {},
   "outputs": [],
   "source": [
    "mito_genes = adata.var_names.str.startswith('mt-')\n",
    "\n",
    "# for each cell compute fraction of counts in mito genes vs. all genes\n",
    "adata.obs['percent_mito'] = np.sum(\n",
    "    adata[:, mito_genes].X, axis=1) / np.sum(adata.X, axis=1)\n",
    "# add the total counts per cell as observations-annotation to adata\n",
    "adata.obs['n_counts'] = adata.X.sum(axis=1)"
   ]
  },
  {
   "cell_type": "markdown",
   "metadata": {},
   "source": [
    "A violin plot of the computed quality measures."
   ]
  },
  {
   "cell_type": "code",
   "execution_count": null,
   "metadata": {},
   "outputs": [],
   "source": [
    "sc.pl.violin(adata, ['n_genes', 'n_counts', 'percent_mito'],\n",
    "             jitter=0.4, multi_panel=True)"
   ]
  },
  {
   "cell_type": "markdown",
   "metadata": {},
   "source": [
    "Remove cells that have too many mitochondrial genes expressed or too many total counts."
   ]
  },
  {
   "cell_type": "code",
   "execution_count": null,
   "metadata": {},
   "outputs": [],
   "source": [
    "sc.pl.scatter(adata, x='n_counts', y='percent_mito')  \n",
    "sc.pl.scatter(adata, x='n_counts', y='n_genes')"
   ]
  },
  {
   "cell_type": "markdown",
   "metadata": {},
   "source": [
    "Actually do the filtering."
   ]
  },
  {
   "cell_type": "code",
   "execution_count": null,
   "metadata": {},
   "outputs": [],
   "source": [
    "adata = adata[adata.obs['percent_mito'] < 0.5, :]"
   ]
  },
  {
   "cell_type": "markdown",
   "metadata": {},
   "source": [
    "throw out any other unwanted genes"
   ]
  },
  {
   "cell_type": "code",
   "execution_count": null,
   "metadata": {},
   "outputs": [],
   "source": [
    "# removing genes with annotations we are not interested in\n",
    "banned = ['NA', 'mt-', \"Malat1\", 'Rpl', 'Rps', 'Hist1h']\n",
    "keptGenes = [geneName for geneName in adata.var.index if not any( (b in geneName for b in banned) )]\n",
    "\n",
    "adata = adata[:,keptGenes]\n",
    "\n",
    "adata"
   ]
  },
  {
   "cell_type": "code",
   "execution_count": null,
   "metadata": {},
   "outputs": [],
   "source": [
    "scv.pl.proportions(adata)"
   ]
  },
  {
   "cell_type": "markdown",
   "metadata": {},
   "source": [
    "minCount = 1000\n",
    "sc.pp.filter_cells(adata, min_counts=minCount)\n",
    "sc.pp.filter_cells(adata, min_genes=100)\n",
    "sc.pp.filter_genes(adata, min_cells=2)"
   ]
  },
  {
   "cell_type": "markdown",
   "metadata": {},
   "source": [
    "Total-count normalize (library-size correct) the data matrix $\\mathbf{X}$ to 10,000 reads per cell, so that counts become comparable among cells."
   ]
  },
  {
   "cell_type": "code",
   "execution_count": null,
   "metadata": {},
   "outputs": [],
   "source": [
    "sc.pp.normalize_per_cell(adata, counts_per_cell_after=minCount)"
   ]
  },
  {
   "cell_type": "markdown",
   "metadata": {},
   "source": [
    "Logarithmize the data."
   ]
  },
  {
   "cell_type": "code",
   "execution_count": null,
   "metadata": {},
   "outputs": [],
   "source": [
    "sc.pp.log1p(adata)"
   ]
  },
  {
   "cell_type": "markdown",
   "metadata": {},
   "source": [
    "Set the `.raw` attribute of AnnData object to the logarithmized raw gene expression for later use in differential testing and visualizations of gene expression. This simply freezes the state of the AnnData object. While many people consider the normalized data matrix as the \"relevant data\" for visualization and differential testing, some would prefer to store the unnormalized data."
   ]
  },
  {
   "cell_type": "code",
   "execution_count": null,
   "metadata": {},
   "outputs": [],
   "source": [
    "adata.raw = adata"
   ]
  },
  {
   "cell_type": "markdown",
   "metadata": {},
   "source": [
    "Identify highly-variable genes."
   ]
  },
  {
   "cell_type": "code",
   "execution_count": null,
   "metadata": {},
   "outputs": [],
   "source": [
    "sc.pp.highly_variable_genes(adata, min_mean=0.0125, max_mean=3, min_disp=0.5)"
   ]
  },
  {
   "cell_type": "code",
   "execution_count": null,
   "metadata": {},
   "outputs": [],
   "source": [
    "sc.pl.highly_variable_genes(adata)"
   ]
  },
  {
   "cell_type": "markdown",
   "metadata": {},
   "source": [
    "Actually do the filtering."
   ]
  },
  {
   "cell_type": "code",
   "execution_count": null,
   "metadata": {},
   "outputs": [],
   "source": [
    "#adata = adata[:, adata.var['highly_variable']]"
   ]
  },
  {
   "cell_type": "markdown",
   "metadata": {},
   "source": [
    "Regress out effects of total counts per cell and the percentage of mitochondrial genes expressed. Scale the data to unit variance."
   ]
  },
  {
   "cell_type": "code",
   "execution_count": null,
   "metadata": {},
   "outputs": [],
   "source": [
    "sc.pp.regress_out(adata, ['n_counts', 'percent_mito'])"
   ]
  },
  {
   "cell_type": "markdown",
   "metadata": {},
   "source": [
    "Scale each gene to unit variance. Clip values exceeding standard deviation 10. "
   ]
  },
  {
   "cell_type": "code",
   "execution_count": null,
   "metadata": {},
   "outputs": [],
   "source": [
    "sc.pp.scale(adata, max_value=10)"
   ]
  },
  {
   "cell_type": "code",
   "execution_count": null,
   "metadata": {},
   "outputs": [],
   "source": [
    "sc.pl.highest_expr_genes(adata, n_top=20)"
   ]
  },
  {
   "cell_type": "markdown",
   "metadata": {},
   "source": [
    "## Principal component analysis"
   ]
  },
  {
   "cell_type": "markdown",
   "metadata": {},
   "source": [
    "Reduce the dimensionality of the data by running principal component analysis (PCA), which reveals the main axes of variation and denoises the data."
   ]
  },
  {
   "cell_type": "code",
   "execution_count": null,
   "metadata": {},
   "outputs": [],
   "source": [
    "sc.tl.pca(adata, svd_solver='arpack')"
   ]
  },
  {
   "cell_type": "markdown",
   "metadata": {},
   "source": [
    "We can make a scatter plot in the PCA coordinates, but we will not use that later on."
   ]
  },
  {
   "cell_type": "code",
   "execution_count": null,
   "metadata": {},
   "outputs": [],
   "source": [
    "plotgene = [geneName for geneName in adata.var.index if any( (b in geneName for b in ['Gata']) )]\n",
    "sc.pl.pca(adata, color=plotgene, color_map = 'viridis')"
   ]
  },
  {
   "cell_type": "code",
   "execution_count": null,
   "metadata": {},
   "outputs": [],
   "source": [
    "sc.pl.pca(adata, color = ['T', 'Gata6'], color_map = 'viridis')"
   ]
  },
  {
   "cell_type": "markdown",
   "metadata": {},
   "source": [
    "Let us inspect the contribution of single PCs to the total variance in the data. This gives us information about how many PCs we should consider in order to compute the neighborhood relations of cells, e.g. used in the clustering function  `sc.tl.louvain()` or tSNE `sc.tl.tsne()`. In our experience, often, a rough estimate of the number of PCs does fine."
   ]
  },
  {
   "cell_type": "code",
   "execution_count": null,
   "metadata": {},
   "outputs": [],
   "source": [
    "sc.pl.pca_variance_ratio(adata, log=True)"
   ]
  },
  {
   "cell_type": "markdown",
   "metadata": {},
   "source": [
    "Save the result."
   ]
  },
  {
   "cell_type": "code",
   "execution_count": null,
   "metadata": {},
   "outputs": [],
   "source": [
    "adata.write(results_file)"
   ]
  },
  {
   "cell_type": "markdown",
   "metadata": {},
   "source": [
    "## Computing the neighborhood graph"
   ]
  },
  {
   "cell_type": "markdown",
   "metadata": {},
   "source": [
    "Let us compute the neighborhood graph of cells using the PCA representation of the data matrix. You might simply use default values here. For the sake of reproducing Seurat's results, let's take the following values."
   ]
  },
  {
   "cell_type": "code",
   "execution_count": null,
   "metadata": {},
   "outputs": [],
   "source": [
    "sc.pp.neighbors(adata, n_neighbors=10, n_pcs=40)"
   ]
  },
  {
   "cell_type": "markdown",
   "metadata": {},
   "source": [
    "## Embedding the neighborhood graph"
   ]
  },
  {
   "cell_type": "markdown",
   "metadata": {},
   "source": [
    "We advertise embedding the graph in 2 dimensions using UMAP ([McInnes et al., 2018](https://arxiv.org/abs/1802.03426)), see below. It is  potentially more faithful to the global connectivity of the manifold than tSNE, i.e., it better preservers trajectories. In some ocassions, you might still observe disconnected clusters and similar connectivity violations. They can usually be remedied by running:\n",
    "\n",
    "```\n",
    "tl.paga(adata)\n",
    "pl.paga(adata, plot=False)  # remove `plot=False` if you want to see the coarse-grained graph\n",
    "tl.umap(adata, init_pos='paga')\n",
    "```"
   ]
  },
  {
   "cell_type": "code",
   "execution_count": null,
   "metadata": {},
   "outputs": [],
   "source": [
    "sc.tl.umap(adata)"
   ]
  },
  {
   "cell_type": "code",
   "execution_count": null,
   "metadata": {},
   "outputs": [],
   "source": [
    "sc.tl.tsne(adata)"
   ]
  },
  {
   "cell_type": "markdown",
   "metadata": {},
   "source": [
    "We can define which characteristics of the data we would like to display. E.g. libraries, histone marks, time points etc. Then we can easily plot those to check for possible batch effects."
   ]
  },
  {
   "cell_type": "code",
   "execution_count": null,
   "metadata": {},
   "outputs": [],
   "source": [
    "pd.DataFrame([ob.split(':')[0] for ob in adata.obs_names])[0].unique()"
   ]
  },
  {
   "cell_type": "code",
   "execution_count": null,
   "metadata": {},
   "outputs": [],
   "source": [
    "batches = [ob.split(':')[0] for ob in adata.obs_names]\n",
    "days = [ob.split('-')[2] for ob in batches]\n",
    "reps = [ob.split('-')[4] for ob in batches]\n",
    "marks = [ob.split('-')[5] for ob in batches]\n",
    "#marks = [sub.replace('K', 'k') for sub in marks]\n",
    "#marks = [sub.replace('k427', 'k27') for sub in marks]\n",
    "\n",
    "adata.obs['batch'] = batches \n",
    "adata.obs['day'] = days\n",
    "adata.obs['replicates'] = reps \n",
    "adata.obs['mark'] = marks "
   ]
  },
  {
   "cell_type": "code",
   "execution_count": null,
   "metadata": {},
   "outputs": [],
   "source": [
    "#they are now added under 'obs'\n",
    "adata"
   ]
  },
  {
   "cell_type": "code",
   "execution_count": null,
   "metadata": {},
   "outputs": [],
   "source": [
    "fig, ax = plt.subplots(figsize=(6,5))\n",
    "sc.pl.umap(adata, color='n_genes', size = 20,ax=ax, color_map = 'viridis')"
   ]
  },
  {
   "cell_type": "code",
   "execution_count": null,
   "metadata": {},
   "outputs": [],
   "source": [
    "sc.pl.umap(adata, color=['batch','day', 'replicates', 'mark'],size=20)"
   ]
  },
  {
   "cell_type": "code",
   "execution_count": null,
   "metadata": {},
   "outputs": [],
   "source": [
    "len(adata.obs['batch'].unique())"
   ]
  },
  {
   "cell_type": "code",
   "execution_count": null,
   "metadata": {},
   "outputs": [],
   "source": [
    "fig, ax = plt.subplots(figsize=(8,8))\n",
    "sc.pl.umap(adata, color='batch', palette=sns.color_palette(\"tab20\", len(adata.obs['batch'].unique())), ax=ax,size=20)"
   ]
  },
  {
   "cell_type": "code",
   "execution_count": null,
   "metadata": {},
   "outputs": [],
   "source": [
    "fig, ax = plt.subplots(figsize=(8,8))\n",
    "sc.pl.umap(adata, color='day',ax=ax,size=20)"
   ]
  },
  {
   "cell_type": "code",
   "execution_count": null,
   "metadata": {},
   "outputs": [],
   "source": [
    "fig, ax = plt.subplots(figsize=(8,8))\n",
    "sc.pl.umap(adata, color='replicates',ax=ax,size=20)"
   ]
  },
  {
   "cell_type": "code",
   "execution_count": null,
   "metadata": {},
   "outputs": [],
   "source": [
    "fig, ax = plt.subplots(figsize=(8,8))\n",
    "sc.pl.umap(adata, color='mark',ax=ax,palette=sns.color_palette(\"hls\", 4), size=15)"
   ]
  },
  {
   "cell_type": "code",
   "execution_count": null,
   "metadata": {},
   "outputs": [],
   "source": [
    "sc.pl.umap(adata, color=['day', 'mark'],size=15)"
   ]
  },
  {
   "cell_type": "code",
   "execution_count": null,
   "metadata": {},
   "outputs": [],
   "source": [
    "fig, ax = plt.subplots(figsize=(8,8))\n",
    "sc.pl.umap(adata, color='batch',ax=ax, palette=sns.color_palette(\"nipy_spectral\", len(adata.obs['batch'].unique())),size=20)\n"
   ]
  },
  {
   "cell_type": "markdown",
   "metadata": {},
   "source": [
    "As we set the `.raw` attribute of `adata`, the previous plots showed the \"raw\" (normalized, logarithmized, but uncorrected) gene expression. You can also plot the scaled and corrected gene expression by explicitly stating that you don't want to use `.raw`."
   ]
  },
  {
   "cell_type": "code",
   "execution_count": null,
   "metadata": {},
   "outputs": [],
   "source": [
    "sc.tl.embedding_density(adata, groupby='mark')\n",
    "sc.pl.embedding_density(adata, groupby='mark')"
   ]
  },
  {
   "cell_type": "code",
   "execution_count": null,
   "metadata": {},
   "outputs": [],
   "source": [
    "for batch in adata.obs['mark'].unique():\n",
    "    sc.pl.umap(adata, color='mark', groups=[batch])"
   ]
  },
  {
   "cell_type": "code",
   "execution_count": null,
   "metadata": {},
   "outputs": [],
   "source": [
    "sc.pl.umap(adata, color=['Wnt7b'], use_raw=False, color_map = 'viridis')"
   ]
  },
  {
   "cell_type": "markdown",
   "metadata": {},
   "source": [
    "We can now plot all of our favourite genes and check their expression and distribution."
   ]
  },
  {
   "cell_type": "markdown",
   "metadata": {},
   "source": [
    "# Clustering the neighbourhood graph"
   ]
  },
  {
   "cell_type": "markdown",
   "metadata": {},
   "source": [
    "As Seurat and many others, we recommend the Louvain graph-clustering method (community detection based on optimizing modularity). It has been proposed for single-cell data by [Levine et al. (2015)](https://doi.org/10.1016/j.cell.2015.05.047). Note that Louvain clustering directly clusters the neighborhood graph of cells, which we already computed in the previous section."
   ]
  },
  {
   "cell_type": "code",
   "execution_count": null,
   "metadata": {},
   "outputs": [],
   "source": [
    "sc.tl.leiden(adata)"
   ]
  },
  {
   "cell_type": "code",
   "execution_count": null,
   "metadata": {},
   "outputs": [],
   "source": [
    "sc.tl.louvain(adata)"
   ]
  },
  {
   "cell_type": "markdown",
   "metadata": {},
   "source": [
    "Plot the clusters, which agree quite well with the result of Seurat."
   ]
  },
  {
   "cell_type": "code",
   "execution_count": null,
   "metadata": {},
   "outputs": [],
   "source": [
    "fig, ax = plt.subplots(figsize=(8,8))\n",
    "sc.pl.umap(adata, color='leiden',ax=ax, palette=sns.color_palette(\"tab20\", len(adata.obs['leiden'].unique())), legend_loc = \"on data\",size=30)"
   ]
  },
  {
   "cell_type": "code",
   "execution_count": null,
   "metadata": {},
   "outputs": [],
   "source": [
    "fig, ax = plt.subplots(figsize=(8,8))\n",
    "sc.pl.umap(adata, color='louvain',ax=ax, palette=sns.color_palette(\"tab20\", len(adata.obs['louvain'].unique())), legend_loc = \"on data\", size=30)"
   ]
  },
  {
   "cell_type": "code",
   "execution_count": null,
   "metadata": {},
   "outputs": [],
   "source": [
    "sc.pl.umap(adata, color=['louvain','leiden'], palette=sns.color_palette(\"tab20\", 17), legend_loc = \"on data\", legend_fontsize=8,  size=20)"
   ]
  },
  {
   "cell_type": "markdown",
   "metadata": {},
   "source": [
    "### Define cluster identities based on known marker genes"
   ]
  },
  {
   "cell_type": "markdown",
   "metadata": {},
   "source": [
    "Overview of louvain clusters, cell type annotation, known marker genes and marker genes as defined by Scanpy.\n",
    "(120hAA)\n",
    "\n",
    "Louvain Group | Cell type | Known marker genes | Scanpy marker genes\n",
    "---|---|---|---\n",
    "1 | Neurons | Sox1, Sox2 | Sox1, Sox2, Sox13, Ncam1, Crabp2, Nkx1-2, Gbx2, Hoxc8, Hoxb9, Hoxc9\n",
    "2 | Anterior neural / Neurectoderm | Foxg1 | Sox1, Sox21, Tmsb4x, Epha4\n",
    "3 | Branchial arches | Onecut2, Elavl3, Tmsb4x, Celsr3, Btbd17 | Onecut2, Elavl3, Tmsb4x, Hes6\n",
    "4 | Early endoderm | Prdm1, Irx1 | Peg3, Prrx1, Prrx2, Pbx1, Meis2 | -\n",
    "5 | Endoderm | Foxa2, Cdh1, Sox17, Trh, \n",
    "6 | Early heart progenitors | Bmp4, Gata4, Gata6, Hand1, Hand2 | Bmp4, Runx1t1, Gata6, Msx1, Nrp1, Peg10\n",
    "7 | Allantois (?) | Tbx4 | Mdm2, Klf9, Stx3, Cdkn1a, Ccng1\n",
    "8 | Presomitic mesoderm | Dll1, Hes7, Snai1, Hes5, Dkk1, Lfng | Dll1, Hes7, Rspo3, Dll3, Tbx6\n",
    "9 | Early somitic | Eya1, Pax3, Six1, Cer1 | Eya1, Pax3, Meox1, Cadm1, Nav1\n",
    "10 | Somitogenesis wavefront | Aldh1a2, Notch1, Lfng | Aldh1a2, Notch1, Foxc1, Foxc2, Foxp1, Lef1\n",
    "11 | Tailbud | T, Wnt3a, Cdx2, Fgf8 | T, Foxb1, Fgf17, Rspo3, Hoxc6, Hoxc8, Hes7\n",
    "12a | PGCs | Sox2, Nanog | Nanog, Mt1, Mt2\n",
    "12b | Node | Cdh1, Trh, Nodal, Sox17, Epcam | Cdh1, Trh\n",
    "13 | Haemogenic | Sox7 | Car2, Kdr"
   ]
  },
  {
   "cell_type": "code",
   "execution_count": null,
   "metadata": {},
   "outputs": [],
   "source": [
    "# if your color map is being annoying, rerun this:\n",
    "sc.set_figure_params(dpi=100, color_map = 'viridis')"
   ]
  },
  {
   "cell_type": "code",
   "execution_count": null,
   "metadata": {
    "scrolled": false
   },
   "outputs": [],
   "source": [
    "sc.pl.umap(adata, color=['Rspo3', 'Mesp2', 'Ripply2', 'Cer1', 'Meox1', 'Pax3','Pax1',\n",
    "                        'Irx3', 'Nes', 'Pax6', 'Dbx1', 'Uncx'], use_raw=True, color_map = 'viridis')"
   ]
  },
  {
   "cell_type": "code",
   "execution_count": null,
   "metadata": {
    "scrolled": false
   },
   "outputs": [],
   "source": [
    "sc.pl.umap(adata, color=['Gata4', 'Gata6', 'Hand1', 'Hand2', \n",
    "                         'Bmp4', 'Wnt3a', 'Mixl1', 'Sox2ot',\n",
    "                        'Dll1', 'Hes7', 'Snai1', 'Hes5', #presomitic\n",
    "                         'Dkk1', 'Lfng', 'Aldh1a2', 'Notch1', #wavefront\n",
    "                        'Eya1', 'Pax3', 'Six1', 'Cer1', #early somitic\n",
    "                        'Cxcl12'], use_raw=True, color_map = 'viridis')"
   ]
  },
  {
   "cell_type": "code",
   "execution_count": null,
   "metadata": {
    "scrolled": false
   },
   "outputs": [],
   "source": [
    "sc.pl.umap(adata, color=['Eomes', 'Gsc', 'Foxa2', 'Sox17', \n",
    "                         'Hand1', \"Hand2\", \"Cdx2\", \"T\",\n",
    "                        \"Kdr\", \"Sox7\", 'Dppa5a', \"Dazl\",\n",
    "                        \"Lfng\", \"Aldh1a2\", \"Dll1\", \"Meox1\"], use_raw=True, color_map = 'viridis')"
   ]
  },
  {
   "cell_type": "code",
   "execution_count": null,
   "metadata": {},
   "outputs": [],
   "source": [
    "histone = adata.var.filter(regex=r'Hist', axis=0).index"
   ]
  },
  {
   "cell_type": "code",
   "execution_count": null,
   "metadata": {},
   "outputs": [],
   "source": [
    "polycomb = ['Jarid2', \"Eed\",\"Ezh2\", \"Prc1\", \"Ring1\", \"Suz12\", \"Phc1\",\"Phc2\", \"Suv39h2\"] #Prc2\n",
    "k4 = ['Setd5', 'Setd1a', 'Setd3', 'Setdb2', 'Setd7', 'Setd1b','Jarid2']\n",
    "\n",
    "markergenes = ['Esrrb', 'Dppa2', 'Dppa4', 'Nanog', 'Dppa5a','Gsc', 'Klf9', 'Klf2', 'Utf1', 'Pim2', \n",
    "               'Dppa3', 'Dnmt3b', 'Dazl', #PGC\n",
    "               'Cdh1', 'Trh', 'Sox17', 'Nodal', 'Epcam', 'Foxa2', 'Lefty1', #endoderm/PGC/node\n",
    "               'Sox7','Kdr','Car2', #haemogenic\n",
    "               'Bmp4', 'Gata4', 'Gata6', 'Hand1', 'Hand2', #heart\n",
    "               'Dll1', 'Hes7', 'Uncx', 'Snai1', 'Hes5', 'Dkk1', #presomitic\n",
    "               'Eya1', 'Pax3', 'Six1', 'Cer1', #early somite\n",
    "               'Aldh1a2', 'Notch1', 'Lfng', #wavefront\n",
    "               'Onecut2', 'Elavl3', 'Crabp1', #neural tube/branchial arches\n",
    "               'Wnt3a', 'Fgf8', 'T', 'Cdx2', #posterior\n",
    "               'Sox21', 'Nkx1-2', #neural SOX2 SOX1\n",
    "               'Prdm1', 'Irx1', 'Eomes', 'Meox1','Tbx4', 'Sox3','H19', 'Xist','Gata2', 'Gata3','Gata4' #other   \n",
    "              ]\n",
    "\n",
    "hox = adata.var.filter(regex=r'Hox', axis=0).index"
   ]
  },
  {
   "cell_type": "code",
   "execution_count": null,
   "metadata": {
    "scrolled": false
   },
   "outputs": [],
   "source": [
    "sc.pl.umap(adata, color=histone, use_raw=True, color_map = 'viridis')"
   ]
  },
  {
   "cell_type": "code",
   "execution_count": null,
   "metadata": {
    "scrolled": true
   },
   "outputs": [],
   "source": [
    "sc.pl.umap(adata, color=markergenes, use_raw=True, color_map = 'viridis')"
   ]
  },
  {
   "cell_type": "code",
   "execution_count": null,
   "metadata": {
    "scrolled": true
   },
   "outputs": [],
   "source": [
    "sc.pl.umap(adata, color=hox, use_raw=True, color_map = 'viridis')"
   ]
  },
  {
   "cell_type": "code",
   "execution_count": null,
   "metadata": {
    "scrolled": true
   },
   "outputs": [],
   "source": [
    "sc.pl.umap(adata, color=k4, use_raw=True, color_map = 'viridis')"
   ]
  },
  {
   "cell_type": "code",
   "execution_count": null,
   "metadata": {
    "scrolled": true
   },
   "outputs": [],
   "source": [
    "sc.pl.umap(adata, color=polycomb, use_raw=True, color_map = 'viridis')"
   ]
  },
  {
   "cell_type": "markdown",
   "metadata": {},
   "source": [
    "Save the result."
   ]
  },
  {
   "cell_type": "code",
   "execution_count": null,
   "metadata": {},
   "outputs": [],
   "source": [
    "adata.write(results_file)"
   ]
  },
  {
   "cell_type": "markdown",
   "metadata": {},
   "source": [
    "You can also make a heatmap. ! this takes a bit of time to compute."
   ]
  },
  {
   "cell_type": "code",
   "execution_count": null,
   "metadata": {},
   "outputs": [],
   "source": [
    "#sc.pl.heatmap(adata, var_names = adata.var_names[adata.var['highly_variable'] & (np.log(adata.var['means'])>-1)])"
   ]
  },
  {
   "cell_type": "markdown",
   "metadata": {},
   "source": [
    "## Finding marker genes"
   ]
  },
  {
   "cell_type": "markdown",
   "metadata": {},
   "source": [
    "Let us compute a ranking for the highly differential genes in each cluster. For this, by default, the `.raw` attribute of AnnData is used in case it has been initialized before. The simplest and fastest method to do so is the t-test."
   ]
  },
  {
   "cell_type": "code",
   "execution_count": null,
   "metadata": {
    "scrolled": true
   },
   "outputs": [],
   "source": [
    "sc.tl.rank_genes_groups(adata, 'leiden', method='t-test')\n",
    "sc.pl.rank_genes_groups(adata, n_genes=25, sharey=False)"
   ]
  },
  {
   "cell_type": "code",
   "execution_count": null,
   "metadata": {},
   "outputs": [],
   "source": [
    "sc.settings.verbosity = 2  # reduce the verbosity"
   ]
  },
  {
   "cell_type": "markdown",
   "metadata": {},
   "source": [
    "The result of a [Wilcoxon rank-sum (Mann-Whitney-U)](https://de.wikipedia.org/wiki/Wilcoxon-Mann-Whitney-Test) test is very similar. We recommend using the latter in publications, see e.g., [Sonison & Robinson (2018)](https://doi.org/10.1038/nmeth.4612). You might also consider much more powerful differential testing packages like MAST, limma, DESeq2 and, for python, the recent diffxpy."
   ]
  },
  {
   "cell_type": "code",
   "execution_count": null,
   "metadata": {
    "scrolled": true
   },
   "outputs": [],
   "source": [
    "sc.tl.rank_genes_groups(adata, 'leiden', method='wilcoxon')\n",
    "sc.pl.rank_genes_groups(adata, n_genes=25, sharey=False)"
   ]
  },
  {
   "cell_type": "markdown",
   "metadata": {},
   "source": [
    "Save the result."
   ]
  },
  {
   "cell_type": "code",
   "execution_count": null,
   "metadata": {},
   "outputs": [],
   "source": [
    "adata.write(results_file)"
   ]
  },
  {
   "cell_type": "markdown",
   "metadata": {},
   "source": [
    "As an alternative, let us rank genes using logistic regression. For instance, this has been suggested by [Natranos et al. (2018)](https://doi.org/10.1101/258566). The essential difference is that here, we use a multi-variate appraoch whereas conventional differential tests are uni-variate. [Clark et al. (2014)](https://doi.org/10.1186/1471-2105-15-79) has more details."
   ]
  },
  {
   "cell_type": "code",
   "execution_count": null,
   "metadata": {
    "scrolled": true
   },
   "outputs": [],
   "source": [
    "sc.tl.rank_genes_groups(adata, 'leiden', method='logreg')\n",
    "sc.pl.rank_genes_groups(adata, n_genes=25, sharey=False)"
   ]
  },
  {
   "cell_type": "markdown",
   "metadata": {},
   "source": [
    "Reload the object that has been save with the Wilcoxon Rank-Sum test result."
   ]
  },
  {
   "cell_type": "code",
   "execution_count": null,
   "metadata": {},
   "outputs": [],
   "source": [
    "adata = sc.read(results_file)"
   ]
  },
  {
   "cell_type": "markdown",
   "metadata": {},
   "source": [
    "Show the 10 top ranked genes per cluster 0, 1, ..., 7 in a dataframe.\n",
    "Columns are louvain clusters."
   ]
  },
  {
   "cell_type": "code",
   "execution_count": null,
   "metadata": {
    "scrolled": false
   },
   "outputs": [],
   "source": [
    "pd.set_option('display.max_columns', None)\n",
    "pd.DataFrame(adata.uns['rank_genes_groups']['names']).head(20)"
   ]
  },
  {
   "cell_type": "code",
   "execution_count": null,
   "metadata": {},
   "outputs": [],
   "source": [
    "pd.DataFrame(adata.uns['rank_genes_groups']['names']).to_csv(pathToData + 'markergenes_leiden.csv')"
   ]
  },
  {
   "cell_type": "code",
   "execution_count": null,
   "metadata": {},
   "outputs": [],
   "source": [
    "adata"
   ]
  },
  {
   "cell_type": "code",
   "execution_count": null,
   "metadata": {
    "scrolled": false
   },
   "outputs": [],
   "source": [
    "fig, ax = plt.subplots(figsize=(8,8))\n",
    "sc.pl.umap(adata, color='leiden', ax=ax, palette = sns.color_palette(\"tab20\",17),legend_loc='on data')"
   ]
  },
  {
   "cell_type": "code",
   "execution_count": null,
   "metadata": {},
   "outputs": [],
   "source": [
    "#sc.pl.umap(adata, color=['Lmx1a', 'Lmx1b', 'Slc32a1', 'Rassf4', \n",
    " #                        'Dll1', 'Nbl1', 'Neurod4', 'Nefl',\n",
    " #                       'Tubb3', 'Elavl3', 'Sox10', 'Six1', 'Tlx2',\n",
    " #                       'Foxa2', 'Arx', 'Shh', 'Msx1', 'Msx2', 'Pax3'], use_raw=True, color_map = 'viridis')\n"
   ]
  },
  {
   "cell_type": "markdown",
   "metadata": {},
   "source": [
    "We can plot the top x differentially expressed genes for each cluster."
   ]
  },
  {
   "cell_type": "code",
   "execution_count": null,
   "metadata": {
    "scrolled": false
   },
   "outputs": [],
   "source": [
    "cluster = '2'\n",
    "number_genes = 25\n",
    "\n",
    "genes = pd.DataFrame(adata.uns['rank_genes_groups']['names'])[cluster].head(number_genes)\n",
    "sc.pl.umap(adata, color=genes, color_map = 'viridis')"
   ]
  },
  {
   "cell_type": "markdown",
   "metadata": {},
   "source": [
    "Get a table with the scores and groups."
   ]
  },
  {
   "cell_type": "code",
   "execution_count": null,
   "metadata": {
    "scrolled": true
   },
   "outputs": [],
   "source": [
    "result = adata.uns['rank_genes_groups']\n",
    "groups = result['names'].dtype.names\n",
    "pd.DataFrame(\n",
    "    {group + '_' + key[:1]: result[key][group]\n",
    "    for group in groups for key in ['names', 'pvals']}).head(5)"
   ]
  },
  {
   "cell_type": "code",
   "execution_count": null,
   "metadata": {
    "scrolled": true
   },
   "outputs": [],
   "source": [
    "rank_genes_groups = pd.DataFrame(\n",
    "    {group + '_' + key[:1]: result[key][group]\n",
    "    for group in groups for key in ['names', 'pvals']})\n",
    "\n",
    "rank_genes_groups.head()"
   ]
  },
  {
   "cell_type": "code",
   "execution_count": null,
   "metadata": {},
   "outputs": [],
   "source": [
    "#rank_genes_groups.to_csv(pathToData + 'rank_genes_groups_leidenclusters.csv')"
   ]
  },
  {
   "cell_type": "markdown",
   "metadata": {},
   "source": [
    "Compare to a single cluster. "
   ]
  },
  {
   "cell_type": "code",
   "execution_count": null,
   "metadata": {},
   "outputs": [],
   "source": [
    "sc.tl.rank_genes_groups(adata, 'leiden', groups=['0'], reference='1', method='wilcoxon')\n",
    "sc.pl.rank_genes_groups(adata, groups=['0'], n_genes=20)"
   ]
  },
  {
   "cell_type": "markdown",
   "metadata": {},
   "source": [
    "## Various ways of displaying interesting (marker) genes"
   ]
  },
  {
   "cell_type": "markdown",
   "metadata": {},
   "source": [
    "Reload the object that computed differential expression by comparing to the rest of the groups."
   ]
  },
  {
   "cell_type": "code",
   "execution_count": null,
   "metadata": {},
   "outputs": [],
   "source": [
    "adata = sc.read(results_file)"
   ]
  },
  {
   "cell_type": "markdown",
   "metadata": {},
   "source": [
    "Let us also define a list of marker genes for later reference."
   ]
  },
  {
   "cell_type": "code",
   "execution_count": null,
   "metadata": {},
   "outputs": [],
   "source": [
    "polycomb = ['Jarid2', \"Eed\",\"Ezh2\", \"Prc1\", \"Ring1\", \"Suz12\", \"Phc1\",\"Phc2\", \"Suv39h2\"] #Prc2\n",
    "k4 = ['Setd5', 'Setd1a', 'Setd3', 'Setdb2', 'Setd7', 'Setd1b','Jarid2']\n",
    "\n",
    "marker_genes = ['Esrrb', 'Dppa2', 'Dppa4', 'Nanog', 'Dppa5a','Gsc', 'Klf9', 'Klf2', 'Utf1', 'Pim2', \n",
    "               'Dppa3', 'Dnmt3b', 'Dazl', #PGC\n",
    "               'Cdh1', 'Trh', 'Sox17', 'Nodal', 'Epcam', 'Foxa2', 'Lefty1', #endoderm/PGC/node\n",
    "               'Sox7','Kdr','Car2', #haemogenic\n",
    "               'Bmp4', 'Gata4', 'Gata6', 'Hand1', 'Hand2', #heart\n",
    "               'Dll1', 'Hes7', 'Uncx', 'Snai1', 'Hes5', 'Dkk1', #presomitic\n",
    "               'Eya1', 'Pax3', 'Six1', 'Cer1', #early somite\n",
    "               'Aldh1a2', 'Notch1', 'Lfng', #wavefront\n",
    "               'Onecut2', 'Elavl3', 'Crabp1', #neural tube/branchial arches\n",
    "               'Wnt3a', 'Fgf8', 'T', 'Cdx2', #posterior\n",
    "               'Sox21', 'Nkx1-2', #neural SOX2 SOX1\n",
    "               'Prdm1', 'Irx1', 'Eomes', 'Meox1','Tbx4', 'Sox3','H19', 'Xist','Gata2', 'Gata3','Gata4' #other   \n",
    "              ]\n",
    "\n",
    "hox = adata.var.filter(regex=r'Hox', axis=0).index"
   ]
  },
  {
   "cell_type": "markdown",
   "metadata": {},
   "source": [
    "If we want a more detailed view for a certain group, use `sc.pl.rank_genes_groups_violin`."
   ]
  },
  {
   "cell_type": "code",
   "execution_count": null,
   "metadata": {},
   "outputs": [],
   "source": [
    "sc.pl.rank_genes_groups_violin(adata, groups='0', n_genes=8)"
   ]
  },
  {
   "cell_type": "code",
   "execution_count": null,
   "metadata": {},
   "outputs": [],
   "source": [
    "sc.pl.rank_genes_groups_violin(adata, groups='0', n_genes=8)"
   ]
  },
  {
   "cell_type": "markdown",
   "metadata": {},
   "source": [
    "If you want to compare a certain gene across groups, use the following."
   ]
  },
  {
   "cell_type": "code",
   "execution_count": null,
   "metadata": {
    "scrolled": false
   },
   "outputs": [],
   "source": [
    "sc.pl.violin(adata, marker_genes, groupby='leiden', size = 1)"
   ]
  },
  {
   "cell_type": "code",
   "execution_count": null,
   "metadata": {},
   "outputs": [],
   "source": [
    "sc.pl.umap(adata, color = ['Suv39h1', 'Suv39h2', 'Ehmt1', 'Ehmt2', 'Prmt1', 'Phf21a', 'Otx2'], use_raw = True)"
   ]
  },
  {
   "cell_type": "code",
   "execution_count": null,
   "metadata": {
    "scrolled": true
   },
   "outputs": [],
   "source": [
    "#sc.pl.umap(adata, color = (['celltype'] + marker_genes), use_raw = True)\n",
    "sc.pl.umap(adata, color = hox, use_raw = True)"
   ]
  },
  {
   "cell_type": "markdown",
   "metadata": {},
   "source": [
    "Now that we annotated the cell types, let us visualize the marker genes."
   ]
  },
  {
   "cell_type": "code",
   "execution_count": null,
   "metadata": {},
   "outputs": [],
   "source": [
    "ax = sc.pl.dotplot(adata, marker_genes, groupby='leiden', title = '') # ,save='dotplot_markergenes.png')"
   ]
  },
  {
   "cell_type": "code",
   "execution_count": null,
   "metadata": {},
   "outputs": [],
   "source": [
    "ax = sc.pl.dotplot(adata, hox, groupby='leiden', title = '') # ,save='dotplot_markergenes.png')"
   ]
  },
  {
   "cell_type": "markdown",
   "metadata": {},
   "source": [
    "There is also a very compact violin plot."
   ]
  },
  {
   "cell_type": "code",
   "execution_count": null,
   "metadata": {},
   "outputs": [],
   "source": [
    "ax = sc.pl.stacked_violin(adata, marker_genes, groupby='leiden', rotation=90)"
   ]
  },
  {
   "cell_type": "markdown",
   "metadata": {},
   "source": [
    "And a trackplot."
   ]
  },
  {
   "cell_type": "code",
   "execution_count": null,
   "metadata": {
    "scrolled": true
   },
   "outputs": [],
   "source": [
    "sc.pl.rank_genes_groups_tracksplot(adata, n_genes=6, key='rank_genes_groups')"
   ]
  },
  {
   "cell_type": "markdown",
   "metadata": {},
   "source": [
    "## Finally: we can display our new annotate cell names onto the umap"
   ]
  },
  {
   "cell_type": "markdown",
   "metadata": {},
   "source": [
    "Actually mark the cell types."
   ]
  },
  {
   "cell_type": "code",
   "execution_count": null,
   "metadata": {},
   "outputs": [],
   "source": [
    "adata.obs['celltype'] = adata.obs['leiden']\n",
    "adata.obs"
   ]
  },
  {
   "cell_type": "code",
   "execution_count": null,
   "metadata": {},
   "outputs": [],
   "source": [
    "adata.obs['celltype']"
   ]
  },
  {
   "cell_type": "code",
   "execution_count": null,
   "metadata": {},
   "outputs": [],
   "source": [
    "fig, ax = plt.subplots(figsize=(8,8))\n",
    "sc.pl.umap(adata, color='celltype', palette=sns.color_palette('tab20',len(adata.obs['celltype'].unique())), title='Leiden clustering', ax=ax, frameon=False,legend_loc=\"on data\", size = 40)"
   ]
  },
  {
   "cell_type": "code",
   "execution_count": null,
   "metadata": {},
   "outputs": [],
   "source": [
    "#rename louvain or leiden clusters to your new defined cell types\n",
    "adata.rename_categories('celltype', ['0', \"Mesoderm_heart\", '2', \"3\", \"NeuralTube_Somites\", '5',\n",
    "                                     \"Tailbud\", \"Neural_tube_2\", \"Somite_wavefront\",'9','10', \"PGCs\",\n",
    "                                     \"12\", \"Endoderm_node\", \"NeuralTube1\",'15',\n",
    "                                     \"Haemogenic\", 'Endoderm', '18'\n",
    "                                    ])"
   ]
  },
  {
   "cell_type": "markdown",
   "metadata": {},
   "source": [
    "Show off your new umap"
   ]
  },
  {
   "cell_type": "code",
   "execution_count": null,
   "metadata": {},
   "outputs": [],
   "source": [
    "adata.obs['celltype'] = [sub.replace('5', '3') for sub in adata.obs['celltype']]\n",
    "adata.obs['celltype'] = [sub.replace('15', '9') for sub in adata.obs['celltype']]"
   ]
  },
  {
   "cell_type": "code",
   "execution_count": null,
   "metadata": {},
   "outputs": [],
   "source": [
    "sns.color_palette('Set3')"
   ]
  },
  {
   "cell_type": "code",
   "execution_count": null,
   "metadata": {},
   "outputs": [],
   "source": [
    "sns.color_palette('Set2')"
   ]
  },
  {
   "cell_type": "code",
   "execution_count": null,
   "metadata": {},
   "outputs": [],
   "source": [
    "cols = sns.color_palette('Set3') + sns.color_palette('Set2')"
   ]
  },
  {
   "cell_type": "code",
   "execution_count": null,
   "metadata": {},
   "outputs": [],
   "source": [
    "len(adata.obs['celltype'].unique())"
   ]
  },
  {
   "cell_type": "code",
   "execution_count": null,
   "metadata": {},
   "outputs": [],
   "source": [
    "fig, ax = plt.subplots(figsize=(8,8))\n",
    "sc.pl.umap(adata, color='celltype',ax=ax, palette= cols, \n",
    "           legend_loc = \"on data\", title='Cell types', legend_fontsize=10, frameon=False, size = 40, save = '_VAN5399_OUD5650.png')"
   ]
  },
  {
   "cell_type": "code",
   "execution_count": null,
   "metadata": {},
   "outputs": [],
   "source": [
    "fig, ax = plt.subplots(figsize=(10,10))\n",
    "sc.pl.umap(adata, color='leiden',ax=ax, palette=sns.color_palette('hls',23),legend_loc=\"on data\", title='', frameon=False, size = 60)"
   ]
  },
  {
   "cell_type": "markdown",
   "metadata": {},
   "source": [
    "we can save the cells + louvain or leiden clusters in a table, which we can export to a csv and use for e.g. bam splitting."
   ]
  },
  {
   "cell_type": "code",
   "execution_count": null,
   "metadata": {},
   "outputs": [],
   "source": [
    "cells_clusters = pd.DataFrame(adata.obs['celltype'])\n",
    "cells_clusters\n",
    "#cells_clusters.to_csv(pathToData + 'clusters.csv')"
   ]
  },
  {
   "cell_type": "code",
   "execution_count": null,
   "metadata": {},
   "outputs": [],
   "source": [
    "barcodes = pd.read_csv(\"/Users/m.blotenburg/Documents/Projects/Helena/data/VASAbarcodes.csv\", sep = '\\t', header = None)\n",
    "barcodes = barcodes.rename(columns={0:\"cell\", 1:\"barcode\"})\n",
    "barcodes"
   ]
  },
  {
   "cell_type": "code",
   "execution_count": null,
   "metadata": {},
   "outputs": [],
   "source": [
    "umap = pd.DataFrame(adata.obsm['X_umap'])\n",
    "umap.index = adata.obs.index\n",
    "cells_clusters['V1'] = umap[0]\n",
    "cells_clusters['V2'] = umap[1]\n",
    "cells_clusters"
   ]
  },
  {
   "cell_type": "code",
   "execution_count": null,
   "metadata": {},
   "outputs": [],
   "source": [
    "plt.figure(figsize=(10,10))\n",
    "fig = sns.scatterplot(cells_clusters['V1'], cells_clusters['V2'], hue = cells_clusters['celltype'])"
   ]
  },
  {
   "cell_type": "code",
   "execution_count": null,
   "metadata": {},
   "outputs": [],
   "source": [
    "test = cells_clusters.reset_index()\n",
    "test[['library', 'bc']] = test['index'].str.split(\":\", 1, expand=True)\n",
    "test = test.merge(barcodes, left_on='bc', right_on='barcode')\n",
    "test['names'] = test['library'] + \"_\" + test['cell'].astype(str)\n",
    "test = test.set_index(['names'])\n",
    "test = test.drop(['index', 'library', 'bc', 'barcode', 'cell', 'V1', 'V2'], axis = 1)\n",
    "test"
   ]
  },
  {
   "cell_type": "code",
   "execution_count": null,
   "metadata": {},
   "outputs": [],
   "source": [
    "test.to_csv(pathToData + '20210223_VAN5399_OUD5650_cells_clusters_celltypes.csv', sep = '\\t')"
   ]
  },
  {
   "cell_type": "code",
   "execution_count": null,
   "metadata": {},
   "outputs": [],
   "source": [
    "pathToData"
   ]
  },
  {
   "cell_type": "markdown",
   "metadata": {},
   "source": [
    "# Exporting"
   ]
  },
  {
   "cell_type": "markdown",
   "metadata": {},
   "source": [
    "During the course of this analysis, the AnnData accumlated the following annotations."
   ]
  },
  {
   "cell_type": "code",
   "execution_count": null,
   "metadata": {},
   "outputs": [],
   "source": [
    "adata"
   ]
  },
  {
   "cell_type": "code",
   "execution_count": null,
   "metadata": {},
   "outputs": [],
   "source": [
    "adata.write(results_file, compression='gzip')  # `compression='gzip'` saves disk space, but slows down writing and subsequent reading"
   ]
  },
  {
   "cell_type": "markdown",
   "metadata": {},
   "source": [
    "Get a rough overview of the file using `h5ls`, which has many options - for more details see [here](https://github.com/theislab/scanpy_usage/blob/master/170505_seurat/info_h5ad.md). The file format might still be subject to further optimization in the future. All reading functions will remain backwards-compatible, though."
   ]
  },
  {
   "cell_type": "markdown",
   "metadata": {},
   "source": [
    "If you want to share this file with people who merely want to use it for visualization, a simple way to reduce the file size is by removing the dense scaled and corrected data matrix. The file still contains the raw data used in the visualizations."
   ]
  },
  {
   "cell_type": "code",
   "execution_count": null,
   "metadata": {},
   "outputs": [],
   "source": [
    "adata.X = None\n",
    "adata.write('./write/Scanpy120hAA.h5ad', compression='gzip')"
   ]
  },
  {
   "cell_type": "markdown",
   "metadata": {},
   "source": [
    "If you want to export to \"csv\", you have the following options:"
   ]
  },
  {
   "cell_type": "code",
   "execution_count": null,
   "metadata": {},
   "outputs": [],
   "source": [
    "# Export single fields of the annotation of observations\n",
    "# adata.obs[['n_counts', 'louvain_groups']].to_csv(\n",
    "#     './write/pbmc3k_corrected_louvain_groups.csv')\n",
    "\n",
    "# Export single columns of the multidimensional annotation\n",
    "# adata.obsm.to_df()[['X_pca1', 'X_pca2']].to_csv(\n",
    "#     './write/pbmc3k_corrected_X_pca.csv')\n",
    "\n",
    "# Or export everything except the data using `.write_csvs`.\n",
    "# Set `skip_data=False` if you also want to export the data.\n",
    "# adata.write_csvs(results_file[:-5], )"
   ]
  }
 ],
 "metadata": {
  "anaconda-cloud": {},
  "kernelspec": {
   "display_name": "Python 3",
   "language": "python",
   "name": "python3"
  },
  "language_info": {
   "codemirror_mode": {
    "name": "ipython",
    "version": 3
   },
   "file_extension": ".py",
   "mimetype": "text/x-python",
   "name": "python",
   "nbconvert_exporter": "python",
   "pygments_lexer": "ipython3",
   "version": "3.7.1"
  }
 },
 "nbformat": 4,
 "nbformat_minor": 2
}
